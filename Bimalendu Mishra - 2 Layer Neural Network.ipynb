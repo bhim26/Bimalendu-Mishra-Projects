{
 "cells": [
  {
   "cell_type": "markdown",
   "id": "8be38ea5",
   "metadata": {},
   "source": [
    "# 2 Layer Neural Network - Code by Bimalendu Mishra"
   ]
  },
  {
   "cell_type": "markdown",
   "id": "18891e48",
   "metadata": {},
   "source": [
    "### Importing Libraries and Datasets"
   ]
  },
  {
   "cell_type": "code",
   "execution_count": 1,
   "id": "0c608aa6",
   "metadata": {
    "executionInfo": {
     "elapsed": 960,
     "status": "ok",
     "timestamp": 1642937306574,
     "user": {
      "displayName": "Subham Tripathy",
      "photoUrl": "https://lh3.googleusercontent.com/a-/AOh14GhQQQ_Pf3pGUGcgINoEVp45T2u308IrkV8iYiMk=s64",
      "userId": "02744942169879742774"
     },
     "user_tz": -330
    },
    "id": "40466969"
   },
   "outputs": [],
   "source": [
    "import random\n",
    "import numpy as np\n",
    "import matplotlib.pyplot as plt\n",
    "import requests, gzip\n",
    "from pathlib import Path\n",
    "%matplotlib inline\n",
    "\n",
    "def fetch(url):\n",
    "    name = url.split(\"/\")[-1]\n",
    "    dirs = Path(\"dataset/mnist\")\n",
    "    path = (dirs / name)\n",
    "    if path.exists():\n",
    "        with path.open(\"rb\") as f:\n",
    "            dat = f.read()\n",
    "    else:\n",
    "        if not dirs.is_dir():\n",
    "            dirs.mkdir(parents=True, exist_ok=True)\n",
    "        with path.open(\"wb\") as f:\n",
    "            dat = requests.get(url).content\n",
    "            f.write(dat)\n",
    "    return np.frombuffer(gzip.decompress(dat), dtype=np.uint8).copy()\n",
    "\n",
    "\n",
    "\n",
    "X_tr = fetch(\"http://yann.lecun.com/exdb/mnist/train-images-idx3-ubyte.gz\")[0x10:].reshape((-1, 28, 28))\n",
    "Y_tr = fetch(\"http://yann.lecun.com/exdb/mnist/train-labels-idx1-ubyte.gz\")[8:]\n",
    "X_te = fetch(\"http://yann.lecun.com/exdb/mnist/t10k-images-idx3-ubyte.gz\")[0x10:].reshape((-1, 28, 28))\n",
    "Y_te = fetch(\"http://yann.lecun.com/exdb/mnist/t10k-labels-idx1-ubyte.gz\")[8:]\n",
    "\n",
    "X_tr1 = X_tr.reshape(60000,784)\n",
    "Y_tr1 = Y_tr\n",
    "X_te1 = X_te.reshape(10000,784)\n",
    "Y_te1 = Y_te\n",
    "\n",
    "m,n = X_tr1.shape\n",
    "\n",
    "X_train = X_tr1.T\n",
    "Y_train = Y_tr1.T\n",
    "X_test = X_te1.T\n",
    "Y_test = Y_te1.T"
   ]
  },
  {
   "cell_type": "markdown",
   "id": "add5712b",
   "metadata": {
    "id": "6655a454"
   },
   "source": [
    "### Initialising Parameters"
   ]
  },
  {
   "cell_type": "code",
   "execution_count": 2,
   "id": "92543199",
   "metadata": {
    "executionInfo": {
     "elapsed": 6,
     "status": "ok",
     "timestamp": 1642937308439,
     "user": {
      "displayName": "Subham Tripathy",
      "photoUrl": "https://lh3.googleusercontent.com/a-/AOh14GhQQQ_Pf3pGUGcgINoEVp45T2u308IrkV8iYiMk=s64",
      "userId": "02744942169879742774"
     },
     "user_tz": -330
    },
    "id": "23e41e66"
   },
   "outputs": [],
   "source": [
    "def init_params():\n",
    "    W1 = np.random.uniform(-0.5, 0.5, (10, 784))\n",
    "    b1 =  np.zeros((10, 1))\n",
    "    W2 = np.random.uniform(-0.5, 0.5, (10, 10))\n",
    "    b2 =  np.zeros((10, 1))\n",
    "    return W1, b1, W2, b2"
   ]
  },
  {
   "cell_type": "markdown",
   "id": "5b855a76",
   "metadata": {
    "id": "90593929"
   },
   "source": [
    "### Defining Activation Functions"
   ]
  },
  {
   "cell_type": "code",
   "execution_count": 3,
   "id": "ac65b26d",
   "metadata": {
    "executionInfo": {
     "elapsed": 441,
     "status": "ok",
     "timestamp": 1642937311977,
     "user": {
      "displayName": "Subham Tripathy",
      "photoUrl": "https://lh3.googleusercontent.com/a-/AOh14GhQQQ_Pf3pGUGcgINoEVp45T2u308IrkV8iYiMk=s64",
      "userId": "02744942169879742774"
     },
     "user_tz": -330
    },
    "id": "2ebf245d"
   },
   "outputs": [],
   "source": [
    "def ReLU(Z):\n",
    "    return np.maximum(Z, 0)\n",
    "\n",
    "def softmax(Z):\n",
    "    A = np.exp(Z) / sum(np.exp(Z))\n",
    "    return A\n",
    "\n",
    "def sigmoid(Z):\n",
    "    return 1/(1+np.exp(-Z))"
   ]
  },
  {
   "cell_type": "markdown",
   "id": "1f6ef5d5",
   "metadata": {
    "id": "1432e3fb"
   },
   "source": [
    "### Forward Propagation"
   ]
  },
  {
   "cell_type": "code",
   "execution_count": 4,
   "id": "1c22a04d",
   "metadata": {
    "executionInfo": {
     "elapsed": 622,
     "status": "ok",
     "timestamp": 1642937396907,
     "user": {
      "displayName": "Subham Tripathy",
      "photoUrl": "https://lh3.googleusercontent.com/a-/AOh14GhQQQ_Pf3pGUGcgINoEVp45T2u308IrkV8iYiMk=s64",
      "userId": "02744942169879742774"
     },
     "user_tz": -330
    },
    "id": "060eef9e"
   },
   "outputs": [],
   "source": [
    "def forward_prop(W1, b1, W2, b2, X):\n",
    "    Z1 = W1.dot(X) + b1\n",
    "    A1 = sigmoid(Z1)\n",
    "    Z2 = W2.dot(A1) + b2\n",
    "    A2 = sigmoid(Z2)\n",
    "    return Z1, A1, Z2, A2"
   ]
  },
  {
   "cell_type": "code",
   "execution_count": 5,
   "id": "ffb34ead",
   "metadata": {
    "executionInfo": {
     "elapsed": 5,
     "status": "ok",
     "timestamp": 1642937335881,
     "user": {
      "displayName": "Subham Tripathy",
      "photoUrl": "https://lh3.googleusercontent.com/a-/AOh14GhQQQ_Pf3pGUGcgINoEVp45T2u308IrkV8iYiMk=s64",
      "userId": "02744942169879742774"
     },
     "user_tz": -330
    },
    "id": "c2e75f1c"
   },
   "outputs": [],
   "source": [
    "def ReLU_deriv(Z):\n",
    "    return Z > 0"
   ]
  },
  {
   "cell_type": "code",
   "execution_count": 6,
   "id": "9a7b9f91",
   "metadata": {
    "executionInfo": {
     "elapsed": 571,
     "status": "ok",
     "timestamp": 1642937527156,
     "user": {
      "displayName": "Subham Tripathy",
      "photoUrl": "https://lh3.googleusercontent.com/a-/AOh14GhQQQ_Pf3pGUGcgINoEVp45T2u308IrkV8iYiMk=s64",
      "userId": "02744942169879742774"
     },
     "user_tz": -330
    },
    "id": "fH2MOo0utGLd"
   },
   "outputs": [],
   "source": [
    "def der_sigmoid(x):\n",
    "  return sigmoid(x)*(1-sigmoid(x))"
   ]
  },
  {
   "cell_type": "code",
   "execution_count": 7,
   "id": "07702479",
   "metadata": {
    "executionInfo": {
     "elapsed": 5,
     "status": "ok",
     "timestamp": 1642937337522,
     "user": {
      "displayName": "Subham Tripathy",
      "photoUrl": "https://lh3.googleusercontent.com/a-/AOh14GhQQQ_Pf3pGUGcgINoEVp45T2u308IrkV8iYiMk=s64",
      "userId": "02744942169879742774"
     },
     "user_tz": -330
    },
    "id": "f6570d81"
   },
   "outputs": [],
   "source": [
    "def one_hot(Y):\n",
    "    one_hot_Y = np.zeros((Y.size, Y.max() + 1))\n",
    "    one_hot_Y[np.arange(Y.size), Y] = 1\n",
    "    one_hot_Y = one_hot_Y.T\n",
    "    return one_hot_Y"
   ]
  },
  {
   "cell_type": "markdown",
   "id": "5e115b4c",
   "metadata": {
    "id": "1152299f"
   },
   "source": [
    "### Backward Propagation"
   ]
  },
  {
   "cell_type": "code",
   "execution_count": 8,
   "id": "14c038c6",
   "metadata": {
    "executionInfo": {
     "elapsed": 422,
     "status": "ok",
     "timestamp": 1642937537595,
     "user": {
      "displayName": "Subham Tripathy",
      "photoUrl": "https://lh3.googleusercontent.com/a-/AOh14GhQQQ_Pf3pGUGcgINoEVp45T2u308IrkV8iYiMk=s64",
      "userId": "02744942169879742774"
     },
     "user_tz": -330
    },
    "id": "29663e62"
   },
   "outputs": [],
   "source": [
    "def backward_prop(Z1, A1, Z2, A2, W1, W2, X, Y):\n",
    "    one_hot_Y = one_hot(Y)\n",
    "    dZ2 = A2 - one_hot_Y\n",
    "    dW2 = 1 / m * dZ2.dot(A1.T)\n",
    "    db2 = 1 / m * np.sum(dZ2)\n",
    "    dZ1 = W2.T.dot(dZ2) * der_sigmoid(Z1)\n",
    "    dW1 = 1 / m * dZ1.dot(X.T)\n",
    "    db1 = 1 / m * np.sum(dZ1)\n",
    "    return dW1, db1, dW2, db2"
   ]
  },
  {
   "cell_type": "markdown",
   "id": "6ae8d043",
   "metadata": {
    "id": "2c686fcc"
   },
   "source": [
    "### Updating Parameters"
   ]
  },
  {
   "cell_type": "code",
   "execution_count": 9,
   "id": "1b9db9d1",
   "metadata": {
    "executionInfo": {
     "elapsed": 4,
     "status": "ok",
     "timestamp": 1642937340800,
     "user": {
      "displayName": "Subham Tripathy",
      "photoUrl": "https://lh3.googleusercontent.com/a-/AOh14GhQQQ_Pf3pGUGcgINoEVp45T2u308IrkV8iYiMk=s64",
      "userId": "02744942169879742774"
     },
     "user_tz": -330
    },
    "id": "7f606aed"
   },
   "outputs": [],
   "source": [
    "def update_params(W1, b1, W2, b2, dW1, db1, dW2, db2, alpha):\n",
    "    W1 = W1 - alpha * dW1\n",
    "    b1 = b1 - alpha * db1    \n",
    "    W2 = W2 - alpha * dW2  \n",
    "    b2 = b2 - alpha * db2    \n",
    "    return W1, b1, W2, b2"
   ]
  },
  {
   "cell_type": "markdown",
   "id": "33ae5206",
   "metadata": {
    "id": "8f8d993d"
   },
   "source": [
    "### Predictions"
   ]
  },
  {
   "cell_type": "code",
   "execution_count": 10,
   "id": "70a9acda",
   "metadata": {
    "executionInfo": {
     "elapsed": 3,
     "status": "ok",
     "timestamp": 1642937342653,
     "user": {
      "displayName": "Subham Tripathy",
      "photoUrl": "https://lh3.googleusercontent.com/a-/AOh14GhQQQ_Pf3pGUGcgINoEVp45T2u308IrkV8iYiMk=s64",
      "userId": "02744942169879742774"
     },
     "user_tz": -330
    },
    "id": "afef0f9a"
   },
   "outputs": [],
   "source": [
    "def get_predictions(A2):\n",
    "    return np.argmax(A2, 0)\n",
    "\n",
    "def get_accuracy(predictions, Y):\n",
    "    print(predictions, Y)\n",
    "    return np.sum(predictions == Y) / Y.size"
   ]
  },
  {
   "cell_type": "markdown",
   "id": "7c4e3fc5",
   "metadata": {
    "id": "0aed4fe4"
   },
   "source": [
    "### Gradient Descent"
   ]
  },
  {
   "cell_type": "code",
   "execution_count": 11,
   "id": "2098363a",
   "metadata": {
    "executionInfo": {
     "elapsed": 5,
     "status": "ok",
     "timestamp": 1642937344216,
     "user": {
      "displayName": "Subham Tripathy",
      "photoUrl": "https://lh3.googleusercontent.com/a-/AOh14GhQQQ_Pf3pGUGcgINoEVp45T2u308IrkV8iYiMk=s64",
      "userId": "02744942169879742774"
     },
     "user_tz": -330
    },
    "id": "c1d8a88f"
   },
   "outputs": [],
   "source": [
    "def gradient_descent(X, Y, alpha, iterations):\n",
    "    W1, b1, W2, b2 = init_params()\n",
    "    for i in range(iterations):\n",
    "        Z1, A1, Z2, A2 = forward_prop(W1, b1, W2, b2, X)\n",
    "        dW1, db1, dW2, db2 = backward_prop(Z1, A1, Z2, A2, W1, W2, X, Y)\n",
    "        W1, b1, W2, b2 = update_params(W1, b1, W2, b2, dW1, db1, dW2, db2, alpha)\n",
    "        if i % 10 == 0:\n",
    "            print(\"Iteration: \", i)\n",
    "            predictions = get_predictions(A2)\n",
    "            print(get_accuracy(predictions, Y))\n",
    "    return W1, b1, W2, b2"
   ]
  },
  {
   "cell_type": "code",
   "execution_count": 24,
   "id": "8cba642c",
   "metadata": {
    "colab": {
     "base_uri": "https://localhost:8080/"
    },
    "executionInfo": {
     "elapsed": 306784,
     "status": "ok",
     "timestamp": 1642937848308,
     "user": {
      "displayName": "Subham Tripathy",
      "photoUrl": "https://lh3.googleusercontent.com/a-/AOh14GhQQQ_Pf3pGUGcgINoEVp45T2u308IrkV8iYiMk=s64",
      "userId": "02744942169879742774"
     },
     "user_tz": -330
    },
    "id": "10888e78",
    "outputId": "6ed18cd7-a745-4c1d-d0b3-182b5a024371"
   },
   "outputs": [
    {
     "name": "stderr",
     "output_type": "stream",
     "text": [
      "C:\\Users\\OCAC\\anaconda3\\envs\\ML-Libraries\\lib\\site-packages\\ipykernel_launcher.py:9: RuntimeWarning: overflow encountered in exp\n",
      "  if __name__ == '__main__':\n"
     ]
    },
    {
     "name": "stdout",
     "output_type": "stream",
     "text": [
      "Iteration:  0\n",
      "[5 5 5 ... 7 5 4] [5 0 4 ... 5 6 8]\n",
      "0.09386666666666667\n",
      "Iteration:  10\n",
      "[7 0 0 ... 9 0 6] [5 0 4 ... 5 6 8]\n",
      "0.32376666666666665\n",
      "Iteration:  20\n",
      "[8 0 0 ... 3 0 4] [5 0 4 ... 5 6 8]\n",
      "0.45458333333333334\n",
      "Iteration:  30\n",
      "[8 0 0 ... 8 0 4] [5 0 4 ... 5 6 8]\n",
      "0.53435\n",
      "Iteration:  40\n",
      "[8 0 0 ... 8 0 9] [5 0 4 ... 5 6 8]\n",
      "0.5804333333333334\n",
      "Iteration:  50\n",
      "[8 0 0 ... 3 0 9] [5 0 4 ... 5 6 8]\n",
      "0.6294666666666666\n",
      "Iteration:  60\n",
      "[8 0 4 ... 3 0 9] [5 0 4 ... 5 6 8]\n",
      "0.6653833333333333\n",
      "Iteration:  70\n",
      "[5 0 4 ... 3 0 9] [5 0 4 ... 5 6 8]\n",
      "0.6864666666666667\n",
      "Iteration:  80\n",
      "[5 0 4 ... 3 0 8] [5 0 4 ... 5 6 8]\n",
      "0.7089\n",
      "Iteration:  90\n",
      "[5 0 4 ... 5 6 8] [5 0 4 ... 5 6 8]\n",
      "0.7420333333333333\n",
      "Iteration:  100\n",
      "[5 0 2 ... 5 0 8] [5 0 4 ... 5 6 8]\n",
      "0.75815\n",
      "Iteration:  110\n",
      "[5 0 4 ... 5 6 8] [5 0 4 ... 5 6 8]\n",
      "0.77025\n",
      "Iteration:  120\n",
      "[5 0 4 ... 5 6 8] [5 0 4 ... 5 6 8]\n",
      "0.7829833333333334\n",
      "Iteration:  130\n",
      "[5 0 4 ... 5 6 8] [5 0 4 ... 5 6 8]\n",
      "0.7937666666666666\n",
      "Iteration:  140\n",
      "[5 0 4 ... 5 6 8] [5 0 4 ... 5 6 8]\n",
      "0.8008333333333333\n",
      "Iteration:  150\n",
      "[5 0 4 ... 5 6 8] [5 0 4 ... 5 6 8]\n",
      "0.8046333333333333\n",
      "Iteration:  160\n",
      "[5 0 4 ... 5 6 8] [5 0 4 ... 5 6 8]\n",
      "0.8109333333333333\n",
      "Iteration:  170\n",
      "[5 0 4 ... 5 6 8] [5 0 4 ... 5 6 8]\n",
      "0.8181666666666667\n",
      "Iteration:  180\n",
      "[5 0 4 ... 5 6 8] [5 0 4 ... 5 6 8]\n",
      "0.8253166666666667\n",
      "Iteration:  190\n",
      "[5 0 4 ... 5 6 8] [5 0 4 ... 5 6 8]\n",
      "0.8319666666666666\n",
      "Iteration:  200\n",
      "[3 0 4 ... 5 6 8] [5 0 4 ... 5 6 8]\n",
      "0.8343\n",
      "Iteration:  210\n",
      "[3 0 4 ... 5 6 8] [5 0 4 ... 5 6 8]\n",
      "0.8359666666666666\n",
      "Iteration:  220\n",
      "[3 0 4 ... 5 6 8] [5 0 4 ... 5 6 8]\n",
      "0.8416833333333333\n",
      "Iteration:  230\n",
      "[3 0 4 ... 5 6 8] [5 0 4 ... 5 6 8]\n",
      "0.8421833333333333\n",
      "Iteration:  240\n",
      "[5 0 4 ... 5 6 8] [5 0 4 ... 5 6 8]\n",
      "0.8433666666666667\n",
      "Iteration:  250\n",
      "[3 0 4 ... 5 6 8] [5 0 4 ... 5 6 8]\n",
      "0.8505\n",
      "Iteration:  260\n",
      "[3 0 4 ... 5 6 8] [5 0 4 ... 5 6 8]\n",
      "0.8537333333333333\n",
      "Iteration:  270\n",
      "[3 0 4 ... 5 6 8] [5 0 4 ... 5 6 8]\n",
      "0.857\n",
      "Iteration:  280\n",
      "[5 0 4 ... 5 6 8] [5 0 4 ... 5 6 8]\n",
      "0.8571833333333333\n",
      "Iteration:  290\n",
      "[3 0 4 ... 5 6 8] [5 0 4 ... 5 6 8]\n",
      "0.8629166666666667\n",
      "Iteration:  300\n",
      "[3 0 4 ... 5 6 8] [5 0 4 ... 5 6 8]\n",
      "0.86575\n",
      "Iteration:  310\n",
      "[3 0 4 ... 5 6 8] [5 0 4 ... 5 6 8]\n",
      "0.8693333333333333\n",
      "Iteration:  320\n",
      "[3 0 4 ... 5 6 8] [5 0 4 ... 5 6 8]\n",
      "0.86735\n",
      "Iteration:  330\n",
      "[3 0 4 ... 5 6 8] [5 0 4 ... 5 6 8]\n",
      "0.8667333333333334\n",
      "Iteration:  340\n",
      "[3 0 4 ... 5 6 8] [5 0 4 ... 5 6 8]\n",
      "0.86605\n",
      "Iteration:  350\n",
      "[3 0 4 ... 5 6 8] [5 0 4 ... 5 6 8]\n",
      "0.8683\n",
      "Iteration:  360\n",
      "[3 0 4 ... 5 6 8] [5 0 4 ... 5 6 8]\n",
      "0.8702833333333333\n",
      "Iteration:  370\n",
      "[3 0 4 ... 5 6 8] [5 0 4 ... 5 6 8]\n",
      "0.8727833333333334\n",
      "Iteration:  380\n",
      "[3 0 4 ... 5 6 8] [5 0 4 ... 5 6 8]\n",
      "0.8748833333333333\n",
      "Iteration:  390\n",
      "[3 0 4 ... 5 6 8] [5 0 4 ... 5 6 8]\n",
      "0.8723\n",
      "Iteration:  400\n",
      "[3 0 4 ... 5 6 8] [5 0 4 ... 5 6 8]\n",
      "0.8776166666666667\n",
      "Iteration:  410\n",
      "[3 0 4 ... 5 6 8] [5 0 4 ... 5 6 8]\n",
      "0.8761833333333333\n",
      "Iteration:  420\n",
      "[3 0 4 ... 5 6 8] [5 0 4 ... 5 6 8]\n",
      "0.87935\n",
      "Iteration:  430\n",
      "[3 0 4 ... 5 6 8] [5 0 4 ... 5 6 8]\n",
      "0.87965\n",
      "Iteration:  440\n",
      "[3 0 4 ... 5 6 8] [5 0 4 ... 5 6 8]\n",
      "0.8734166666666666\n",
      "Iteration:  450\n",
      "[3 0 4 ... 5 6 8] [5 0 4 ... 5 6 8]\n",
      "0.8806666666666667\n",
      "Iteration:  460\n",
      "[3 0 4 ... 5 6 8] [5 0 4 ... 5 6 8]\n",
      "0.8701833333333333\n",
      "Iteration:  470\n",
      "[3 0 4 ... 5 6 8] [5 0 4 ... 5 6 8]\n",
      "0.8839666666666667\n",
      "Iteration:  480\n",
      "[5 0 4 ... 5 6 8] [5 0 4 ... 5 6 8]\n",
      "0.8810833333333333\n",
      "Iteration:  490\n",
      "[3 0 4 ... 5 6 8] [5 0 4 ... 5 6 8]\n",
      "0.884\n"
     ]
    }
   ],
   "source": [
    "W1, b1, W2, b2 = gradient_descent(X_train, Y_train, 0.87, 500)"
   ]
  },
  {
   "cell_type": "code",
   "execution_count": 28,
   "id": "42212b00",
   "metadata": {
    "id": "99354f5c"
   },
   "outputs": [],
   "source": [
    "def make_predictions(X, W1, b1, W2, b2):\n",
    "    _, _, _, A2 = forward_prop(W1, b1, W2, b2, X)\n",
    "    predictions = get_predictions(A2)\n",
    "    return predictions\n",
    "\n",
    "def check_prediction(index, W1, b1, W2, b2):\n",
    "    current_image = X_train[:, index, None]\n",
    "    prediction = make_predictions(X_train[:, index, None], W1, b1, W2, b2)\n",
    "    label = Y_train[index]\n",
    "    print(\"Prediction: \", prediction)\n",
    "    print(\"Label: \", label)\n",
    "    \n",
    "    current_image = current_image.reshape((28, 28)) * 255\n",
    "    plt.gray()\n",
    "    plt.imshow(current_image, interpolation='nearest')\n",
    "    plt.show()"
   ]
  },
  {
   "cell_type": "code",
   "execution_count": 29,
   "id": "6c31ba62",
   "metadata": {
    "id": "953000ad",
    "outputId": "9dbd6e04-d016-4cd8-8b7e-e072c3afd3f6"
   },
   "outputs": [
    {
     "name": "stderr",
     "output_type": "stream",
     "text": [
      "C:\\Users\\OCAC\\anaconda3\\envs\\ML-Libraries\\lib\\site-packages\\ipykernel_launcher.py:9: RuntimeWarning: overflow encountered in exp\n",
      "  if __name__ == '__main__':\n"
     ]
    },
    {
     "name": "stdout",
     "output_type": "stream",
     "text": [
      "Prediction:  [3]\n",
      "Label:  5\n"
     ]
    },
    {
     "data": {
      "image/png": "[encoded data removed]",
      "text/plain": [
       "<Figure size 432x288 with 1 Axes>"
      ]
     },
     "metadata": {
      "needs_background": "light"
     },
     "output_type": "display_data"
    },
    {
     "name": "stdout",
     "output_type": "stream",
     "text": [
      "Prediction:  [0]\n",
      "Label:  0\n"
     ]
    },
    {
     "data": {
      "image/png": "[encoded data removed]",
      "text/plain": [
       "<Figure size 432x288 with 1 Axes>"
      ]
     },
     "metadata": {
      "needs_background": "light"
     },
     "output_type": "display_data"
    },
    {
     "name": "stdout",
     "output_type": "stream",
     "text": [
      "Prediction:  [4]\n",
      "Label:  4\n"
     ]
    },
    {
     "data": {
      "image/png": "[encoded data removed]",
      "text/plain": [
       "<Figure size 432x288 with 1 Axes>"
      ]
     },
     "metadata": {
      "needs_background": "light"
     },
     "output_type": "display_data"
    },
    {
     "name": "stdout",
     "output_type": "stream",
     "text": [
      "Prediction:  [1]\n",
      "Label:  1\n"
     ]
    },
    {
     "data": {
      "image/png": "[encoded data removed]",
      "text/plain": [
       "<Figure size 432x288 with 1 Axes>"
      ]
     },
     "metadata": {
      "needs_background": "light"
     },
     "output_type": "display_data"
    }
   ],
   "source": [
    "check_prediction(0, W1, b1, W2, b2)\n",
    "check_prediction(1, W1, b1, W2, b2)\n",
    "check_prediction(2, W1, b1, W2, b2)\n",
    "check_prediction(3, W1, b1, W2, b2)"
   ]
  },
  {
   "cell_type": "markdown",
   "id": "6f9b8160",
   "metadata": {
    "id": "efd677f2"
   },
   "source": [
    "### Finding Accuracy on Test Dataset"
   ]
  },
  {
   "cell_type": "code",
   "execution_count": 30,
   "id": "8672b316",
   "metadata": {
    "id": "08b52ed6",
    "outputId": "6ad4fee6-7f7f-45d8-e0f2-8dac6bdc1424"
   },
   "outputs": [
    {
     "name": "stdout",
     "output_type": "stream",
     "text": [
      "[7 2 1 ... 4 8 6] [7 2 1 ... 4 5 6]\n"
     ]
    },
    {
     "name": "stderr",
     "output_type": "stream",
     "text": [
      "C:\\Users\\OCAC\\anaconda3\\envs\\ML-Libraries\\lib\\site-packages\\ipykernel_launcher.py:9: RuntimeWarning: overflow encountered in exp\n",
      "  if __name__ == '__main__':\n"
     ]
    },
    {
     "data": {
      "text/plain": [
       "0.8804"
      ]
     },
     "execution_count": 30,
     "metadata": {},
     "output_type": "execute_result"
    }
   ],
   "source": [
    "test_predictions = make_predictions(X_test, W1, b1, W2, b2)\n",
    "get_accuracy(dev_predictions, Y_test)"
   ]
  }
 ],
 "metadata": {
  "colab": {
   "name": "2layerNN.ipynb",
   "provenance": []
  },
  "kernelspec": {
   "display_name": "Python 3 (ipykernel)",
   "language": "python",
   "name": "python3"
  },
  "language_info": {
   "codemirror_mode": {
    "name": "ipython",
    "version": 3
   },
   "file_extension": ".py",
   "mimetype": "text/x-python",
   "name": "python",
   "nbconvert_exporter": "python",
   "pygments_lexer": "ipython3",
   "version": "3.7.11"
  }
 },
 "nbformat": 4,
 "nbformat_minor": 5
}
