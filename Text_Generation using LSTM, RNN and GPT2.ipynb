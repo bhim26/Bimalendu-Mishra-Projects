{
  "cells": [
    {
      "cell_type": "markdown",
      "metadata": {
        "id": "3PFNU0rgRbmX"
      },
      "source": [
        "## Importing Libraries"
      ]
    },
    {
      "cell_type": "code",
      "execution_count": null,
      "metadata": {
        "id": "L_DrHfAlT3gs"
      },
      "outputs": [],
      "source": [
        "import tensorflow as tf\n",
        "import matplotlib.pyplot as plt\n",
        "import seaborn as sns\n",
        "import numpy as np\n",
        "import os\n",
        "import time"
      ]
    },
    {
      "cell_type": "markdown",
      "metadata": {
        "id": "HRG3R0XBRml1"
      },
      "source": [
        "## Importing Data"
      ]
    },
    {
      "cell_type": "code",
      "execution_count": null,
      "metadata": {
        "colab": {
          "base_uri": "https://localhost:8080/"
        },
        "id": "AXLNaJJAT7IK",
        "outputId": "33e8451c-73d7-4300-c23b-ea49c3493aa1"
      },
      "outputs": [
        {
          "output_type": "stream",
          "name": "stdout",
          "text": [
            "Downloading data from https://www.gutenberg.org/files/2554/2554-0.txt\n",
            "1204224/1201520 [==============================] - 0s 0us/step\n",
            "1212416/1201520 [==============================] - 0s 0us/step\n"
          ]
        }
      ],
      "source": [
        "path_to_file = tf.keras.utils.get_file('2554-0.txt', 'https://www.gutenberg.org/files/2554/2554-0.txt')"
      ]
    },
    {
      "cell_type": "code",
      "execution_count": null,
      "metadata": {
        "id": "1vWhp39-T9jM"
      },
      "outputs": [],
      "source": [
        "text = open(path_to_file, 'rb').read().decode(encoding='utf-8')"
      ]
    },
    {
      "cell_type": "markdown",
      "metadata": {
        "id": "liWyR9wER88a"
      },
      "source": [
        "## Identifying Unique Characters"
      ]
    },
    {
      "cell_type": "code",
      "execution_count": null,
      "metadata": {
        "colab": {
          "base_uri": "https://localhost:8080/"
        },
        "id": "LgUdIIi4T_4b",
        "outputId": "f6ac2cb6-e448-4135-d5ae-98282ae21c6e"
      },
      "outputs": [
        {
          "output_type": "stream",
          "name": "stdout",
          "text": [
            "101 unique characters\n",
            "vocab: ['\\n', '\\r', ' ', '!', '\"', '#', '$', '%', \"'\", '(', ')', '*', ',', '-', '.', '/', '0', '1', '2', '3', '4', '5', '6', '7', '8', '9', ':', ';', '?', 'A', 'B', 'C', 'D', 'E', 'F', 'G', 'H', 'I', 'J', 'K', 'L', 'M', 'N', 'O', 'P', 'Q', 'R', 'S', 'T', 'U', 'V', 'W', 'X', 'Y', 'Z', '[', ']', '_', 'a', 'b', 'c', 'd', 'e', 'f', 'g', 'h', 'i', 'j', 'k', 'l', 'm', 'n', 'o', 'p', 'q', 'r', 's', 't', 'u', 'v', 'w', 'x', 'y', 'z', 'à', 'ä', 'æ', 'ç', 'è', 'é', 'ê', 'î', 'ï', 'ô', 'ö', 'ü', '‘', '’', '“', '”', '\\ufeff']\n"
          ]
        }
      ],
      "source": [
        "vocab = sorted(set(text))\n",
        "\n",
        "print('{} unique characters'.format(len(vocab)))\n",
        "print('vocab:', vocab)"
      ]
    },
    {
      "cell_type": "markdown",
      "metadata": {
        "id": "0LQ7rEiwR_2E"
      },
      "source": [
        "## Assigning Unique IDs to all the character"
      ]
    },
    {
      "cell_type": "code",
      "execution_count": null,
      "metadata": {
        "colab": {
          "base_uri": "https://localhost:8080/"
        },
        "id": "n20Az30yUCId",
        "outputId": "9480cf90-b7fa-4470-b670-9aa652748b98"
      },
      "outputs": [
        {
          "output_type": "stream",
          "name": "stdout",
          "text": [
            "  '\\n':   0\n",
            "  '\\r':   1\n",
            "  ' ' :   2\n",
            "  '!' :   3\n",
            "  '\"' :   4\n",
            "  '#' :   5\n",
            "  '$' :   6\n",
            "  '%' :   7\n",
            "  \"'\" :   8\n",
            "  '(' :   9\n",
            "  ')' :  10\n",
            "  '*' :  11\n",
            "  ',' :  12\n",
            "  '-' :  13\n",
            "  '.' :  14\n",
            "  '/' :  15\n",
            "  '0' :  16\n",
            "  '1' :  17\n",
            "  '2' :  18\n",
            "  '3' :  19\n",
            "  '4' :  20\n",
            "  '5' :  21\n",
            "  '6' :  22\n",
            "  '7' :  23\n",
            "  '8' :  24\n",
            "  '9' :  25\n",
            "  ':' :  26\n",
            "  ';' :  27\n",
            "  '?' :  28\n",
            "  'A' :  29\n",
            "  'B' :  30\n",
            "  'C' :  31\n",
            "  'D' :  32\n",
            "  'E' :  33\n",
            "  'F' :  34\n",
            "  'G' :  35\n",
            "  'H' :  36\n",
            "  'I' :  37\n",
            "  'J' :  38\n",
            "  'K' :  39\n",
            "  'L' :  40\n",
            "  'M' :  41\n",
            "  'N' :  42\n",
            "  'O' :  43\n",
            "  'P' :  44\n",
            "  'Q' :  45\n",
            "  'R' :  46\n",
            "  'S' :  47\n",
            "  'T' :  48\n",
            "  'U' :  49\n",
            "  'V' :  50\n",
            "  'W' :  51\n",
            "  'X' :  52\n",
            "  'Y' :  53\n",
            "  'Z' :  54\n",
            "  '[' :  55\n",
            "  ']' :  56\n",
            "  '_' :  57\n",
            "  'a' :  58\n",
            "  'b' :  59\n",
            "  'c' :  60\n",
            "  'd' :  61\n",
            "  'e' :  62\n",
            "  'f' :  63\n",
            "  'g' :  64\n",
            "  'h' :  65\n",
            "  'i' :  66\n",
            "  'j' :  67\n",
            "  'k' :  68\n",
            "  'l' :  69\n",
            "  'm' :  70\n",
            "  'n' :  71\n",
            "  'o' :  72\n",
            "  'p' :  73\n",
            "  'q' :  74\n",
            "  'r' :  75\n",
            "  's' :  76\n",
            "  't' :  77\n",
            "  'u' :  78\n",
            "  'v' :  79\n",
            "  'w' :  80\n",
            "  'x' :  81\n",
            "  'y' :  82\n",
            "  'z' :  83\n",
            "  'à' :  84\n",
            "  'ä' :  85\n",
            "  'æ' :  86\n",
            "  'ç' :  87\n",
            "  'è' :  88\n",
            "  'é' :  89\n",
            "  'ê' :  90\n",
            "  'î' :  91\n",
            "  'ï' :  92\n",
            "  'ô' :  93\n",
            "  'ö' :  94\n",
            "  'ü' :  95\n",
            "  '‘' :  96\n",
            "  '’' :  97\n",
            "  '“' :  98\n",
            "  '”' :  99\n",
            "  '\\ufeff': 100\n"
          ]
        }
      ],
      "source": [
        "char2index = {char: index for index, char in enumerate(vocab)}\n",
        "\n",
        "for char, _ in zip(char2index, range(len(vocab))):\n",
        "    print('  {:4s}: {:3d}'.format(repr(char), char2index[char]))"
      ]
    },
    {
      "cell_type": "code",
      "execution_count": null,
      "metadata": {
        "colab": {
          "base_uri": "https://localhost:8080/"
        },
        "id": "Dstf5rs3UE7F",
        "outputId": "192a40ba-bcf5-4cee-da67-62be79f31bea"
      },
      "outputs": [
        {
          "output_type": "stream",
          "name": "stdout",
          "text": [
            "['\\n' '\\r' ' ' '!' '\"' '#' '$' '%' \"'\" '(' ')' '*' ',' '-' '.' '/' '0' '1'\n",
            " '2' '3' '4' '5' '6' '7' '8' '9' ':' ';' '?' 'A' 'B' 'C' 'D' 'E' 'F' 'G'\n",
            " 'H' 'I' 'J' 'K' 'L' 'M' 'N' 'O' 'P' 'Q' 'R' 'S' 'T' 'U' 'V' 'W' 'X' 'Y'\n",
            " 'Z' '[' ']' '_' 'a' 'b' 'c' 'd' 'e' 'f' 'g' 'h' 'i' 'j' 'k' 'l' 'm' 'n'\n",
            " 'o' 'p' 'q' 'r' 's' 't' 'u' 'v' 'w' 'x' 'y' 'z' 'à' 'ä' 'æ' 'ç' 'è' 'é'\n",
            " 'ê' 'î' 'ï' 'ô' 'ö' 'ü' '‘' '’' '“' '”' '\\ufeff']\n"
          ]
        }
      ],
      "source": [
        "index2char = np.array(vocab)\n",
        "print(index2char)"
      ]
    },
    {
      "cell_type": "code",
      "execution_count": null,
      "metadata": {
        "colab": {
          "base_uri": "https://localhost:8080/"
        },
        "id": "zMyX0wqAUJHD",
        "outputId": "441c6803-3850-46f9-ee46-47cfe8492bf5"
      },
      "outputs": [
        {
          "output_type": "stream",
          "name": "stdout",
          "text": [
            "'\\ufeffThe Project Gu' --> array([100,  48,  65,  62,   2,  44,  75,  72,  67,  62,  60,  77,   2,\n",
            "        35,  78])\n"
          ]
        }
      ],
      "source": [
        "text_as_int = np.array([char2index[char] for char in text])\n",
        "print('{} --> {}'.format(repr(text[:15]), repr(text_as_int[:15])))"
      ]
    },
    {
      "cell_type": "markdown",
      "metadata": {
        "id": "ltZ81Z9QSWIw"
      },
      "source": [
        "## Setting Sequence Length"
      ]
    },
    {
      "cell_type": "code",
      "execution_count": null,
      "metadata": {
        "colab": {
          "base_uri": "https://localhost:8080/"
        },
        "id": "ioCEiE7wUMiC",
        "outputId": "1083867c-0aff-4235-83b1-344225e8b277"
      },
      "outputs": [
        {
          "output_type": "stream",
          "name": "stdout",
          "text": [
            "examples_per_epoch: 11651\n"
          ]
        }
      ],
      "source": [
        "sequence_length = 100\n",
        "examples_per_epoch = len(text) // (sequence_length + 1)\n",
        "\n",
        "print('examples_per_epoch:', examples_per_epoch)"
      ]
    },
    {
      "cell_type": "markdown",
      "metadata": {
        "id": "bI3rsZu1S1xA"
      },
      "source": [
        "## Creating Training Dataset"
      ]
    },
    {
      "cell_type": "code",
      "execution_count": null,
      "metadata": {
        "id": "OyQR50akUPeG"
      },
      "outputs": [],
      "source": [
        "char_dataset = tf.data.Dataset.from_tensor_slices(text_as_int)"
      ]
    },
    {
      "cell_type": "markdown",
      "metadata": {
        "id": "B7pxxtdXTAwZ"
      },
      "source": [
        "## Generating batched sequences"
      ]
    },
    {
      "cell_type": "code",
      "execution_count": null,
      "metadata": {
        "colab": {
          "base_uri": "https://localhost:8080/"
        },
        "id": "OL3hvl3JUTcs",
        "outputId": "851b5e4c-305d-4384-8d5b-e6cce6725117"
      },
      "outputs": [
        {
          "output_type": "stream",
          "name": "stdout",
          "text": [
            "Sequences count: 11651\n",
            "\n",
            "'\\ufeffThe Project Gutenberg eBook of Crime and Punishment, by Fyodor Dostoevsky\\r\\n\\r\\nThis eBook is for the u'\n",
            "'se of anyone anywhere in the United States and\\r\\nmost other parts of the world at no cost and with alm'\n",
            "'ost no restrictions\\r\\nwhatsoever. You may copy it, give it away or re-use it under the terms\\r\\nof the P'\n",
            "'roject Gutenberg License included with this eBook or online at\\r\\nwww.gutenberg.org. If you are not loc'\n",
            "'ated in the United States, you\\r\\nwill have to check the laws of the country where you are located befo'\n"
          ]
        }
      ],
      "source": [
        "sequences = char_dataset.batch(sequence_length + 1, drop_remainder=True)\n",
        "\n",
        "print('Sequences count: {}'.format(len(list(sequences.as_numpy_iterator()))));\n",
        "print()\n",
        "\n",
        "for item in sequences.take(5):\n",
        "    print(repr(''.join(index2char[item.numpy()])))"
      ]
    },
    {
      "cell_type": "code",
      "execution_count": null,
      "metadata": {
        "id": "p17hjZFsUWnx"
      },
      "outputs": [],
      "source": [
        "def split_input_target(chunk):\n",
        "    input_text = chunk[:-1]\n",
        "    target_text = chunk[1:]\n",
        "    return input_text, target_text"
      ]
    },
    {
      "cell_type": "code",
      "execution_count": null,
      "metadata": {
        "colab": {
          "base_uri": "https://localhost:8080/"
        },
        "id": "EHMfE6VFUas5",
        "outputId": "08d4db11-207a-471f-98e6-f1101302e421"
      },
      "outputs": [
        {
          "output_type": "stream",
          "name": "stdout",
          "text": [
            "dataset size: 11651\n"
          ]
        }
      ],
      "source": [
        "dataset = sequences.map(split_input_target)\n",
        "print('dataset size: {}'.format(len(list(dataset.as_numpy_iterator()))))"
      ]
    },
    {
      "cell_type": "code",
      "execution_count": null,
      "metadata": {
        "colab": {
          "base_uri": "https://localhost:8080/"
        },
        "id": "PCrJxHm_Uc6j",
        "outputId": "20a80216-6b71-4dbd-b4bf-d2df9e84450f"
      },
      "outputs": [
        {
          "output_type": "stream",
          "name": "stdout",
          "text": [
            "Input sequence size: 100\n",
            "Target sequence size: 100\n",
            "\n",
            "Input: '\\ufeffThe Project Gutenberg eBook of Crime and Punishment, by Fyodor Dostoevsky\\r\\n\\r\\nThis eBook is for the '\n",
            "Target: 'The Project Gutenberg eBook of Crime and Punishment, by Fyodor Dostoevsky\\r\\n\\r\\nThis eBook is for the u'\n"
          ]
        }
      ],
      "source": [
        "for input_example, target_example in dataset.take(1):\n",
        "    print('Input sequence size:', repr(len(input_example.numpy())))\n",
        "    print('Target sequence size:', repr(len(target_example.numpy())))\n",
        "    print()\n",
        "    print('Input:', repr(''.join(index2char[input_example.numpy()])))\n",
        "    print('Target:', repr(''.join(index2char[target_example.numpy()])))"
      ]
    },
    {
      "cell_type": "code",
      "execution_count": null,
      "metadata": {
        "colab": {
          "base_uri": "https://localhost:8080/"
        },
        "id": "uUsioZCdUesw",
        "outputId": "3eafd880-d497-4469-a67f-d05b9e6eb3fb"
      },
      "outputs": [
        {
          "output_type": "execute_result",
          "data": {
            "text/plain": [
              "<PrefetchDataset element_spec=(TensorSpec(shape=(64, 100), dtype=tf.int64, name=None), TensorSpec(shape=(64, 100), dtype=tf.int64, name=None))>"
            ]
          },
          "metadata": {},
          "execution_count": 14
        }
      ],
      "source": [
        "BATCH_SIZE = 64\n",
        "BUFFER_SIZE = 10000\n",
        "\n",
        "dataset = dataset.shuffle(BUFFER_SIZE).batch(BATCH_SIZE, drop_remainder=True).prefetch(tf.data.experimental.AUTOTUNE)\n",
        "\n",
        "dataset"
      ]
    },
    {
      "cell_type": "code",
      "execution_count": null,
      "metadata": {
        "id": "odmpKEuFUh6Y"
      },
      "outputs": [],
      "source": [
        "vocab_size = len(vocab)\n",
        "embedding_dim = 256\n",
        "rnn_units = 1024"
      ]
    },
    {
      "cell_type": "markdown",
      "metadata": {
        "id": "py_9j2S4TQ1j"
      },
      "source": [
        "## LSTM Model"
      ]
    },
    {
      "cell_type": "code",
      "execution_count": null,
      "metadata": {
        "id": "ricbgOECUlF4"
      },
      "outputs": [],
      "source": [
        "def build_lstm_model(vocab_size, embedding_dim, rnn_units, batch_size):\n",
        "    lstm_model = tf.keras.models.Sequential()\n",
        "\n",
        "    lstm_model.add(tf.keras.layers.Embedding(\n",
        "      input_dim=vocab_size,\n",
        "      output_dim=embedding_dim,\n",
        "      batch_input_shape=[batch_size, None]\n",
        "    ))\n",
        "\n",
        "    lstm_model.add(tf.keras.layers.LSTM(\n",
        "      units=rnn_units,\n",
        "      return_sequences=True,\n",
        "      stateful=True,\n",
        "      recurrent_initializer=tf.keras.initializers.GlorotNormal()\n",
        "    ))\n",
        "\n",
        "    lstm_model.add(tf.keras.layers.Dense(vocab_size))\n",
        "  \n",
        "    return lstm_model"
      ]
    },
    {
      "cell_type": "code",
      "execution_count": null,
      "metadata": {
        "id": "SJV4Lf_3UmnE"
      },
      "outputs": [],
      "source": [
        "lstm_model = build_lstm_model(\n",
        "    vocab_size=len(vocab),\n",
        "    embedding_dim=embedding_dim,\n",
        "    rnn_units=rnn_units,\n",
        "    batch_size=BATCH_SIZE)"
      ]
    },
    {
      "cell_type": "code",
      "execution_count": null,
      "metadata": {
        "colab": {
          "base_uri": "https://localhost:8080/"
        },
        "id": "QxRwiUtqUouM",
        "outputId": "630783dc-1166-4bd8-d7c1-d36e81ecee71"
      },
      "outputs": [
        {
          "output_type": "stream",
          "name": "stdout",
          "text": [
            "Model: \"sequential\"\n",
            "_________________________________________________________________\n",
            " Layer (type)                Output Shape              Param #   \n",
            "=================================================================\n",
            " embedding (Embedding)       (64, None, 256)           25856     \n",
            "                                                                 \n",
            " lstm (LSTM)                 (64, None, 1024)          5246976   \n",
            "                                                                 \n",
            " dense (Dense)               (64, None, 101)           103525    \n",
            "                                                                 \n",
            "=================================================================\n",
            "Total params: 5,376,357\n",
            "Trainable params: 5,376,357\n",
            "Non-trainable params: 0\n",
            "_________________________________________________________________\n"
          ]
        }
      ],
      "source": [
        "lstm_model.summary()"
      ]
    },
    {
      "cell_type": "code",
      "execution_count": null,
      "metadata": {
        "colab": {
          "base_uri": "https://localhost:8080/"
        },
        "id": "EDNz0mNRUqhU",
        "outputId": "986d1e51-3a2b-471c-f06f-fd82bfd246a3"
      },
      "outputs": [
        {
          "output_type": "stream",
          "name": "stdout",
          "text": [
            "(64, 100, 101)\n"
          ]
        }
      ],
      "source": [
        "for input_example_batch, target_example_batch in dataset.take(1):\n",
        "    example_batch_predictions = lstm_model(input_example_batch)\n",
        "    print(example_batch_predictions.shape)"
      ]
    },
    {
      "cell_type": "code",
      "execution_count": null,
      "metadata": {
        "id": "7PLu_ORdUtOQ"
      },
      "outputs": [],
      "source": [
        "loss = tf.losses.SparseCategoricalCrossentropy(from_logits=True)\n",
        "adam_optimizer = tf.keras.optimizers.Adam(learning_rate=0.001)\n",
        "lstm_model.compile(\n",
        "\n",
        " optimizer=adam_optimizer,\n",
        " loss=loss,\n",
        " metrics=['accuracy']\n",
        ")\n",
        "\n",
        "checkpoint_dir = 'tmp/checkpoints'\n",
        "os.makedirs(checkpoint_dir, exist_ok=True)\n",
        "\n",
        "checkpoint_prefix = os.path.join(checkpoint_dir, 'ckpt_{epoch}')\n",
        "\n",
        "checkpoint_callback = tf.keras.callbacks.ModelCheckpoint(filepath=checkpoint_prefix, monitor='accuracy', verbose=1, save_weights_only=True, save_best_only=True, mode='max')"
      ]
    },
    {
      "cell_type": "code",
      "execution_count": null,
      "metadata": {
        "colab": {
          "base_uri": "https://localhost:8080/"
        },
        "id": "Oq_L1eVZUvlt",
        "outputId": "0faefea0-435b-46ba-e584-08068ddeaf67"
      },
      "outputs": [
        {
          "output_type": "stream",
          "name": "stdout",
          "text": [
            "Epoch 1/50\n",
            "182/182 [==============================] - ETA: 0s - loss: 2.6057 - accuracy: 0.2857\n",
            "Epoch 1: accuracy improved from -inf to 0.28570, saving model to tmp/checkpoints/ckpt_1\n",
            "182/182 [==============================] - 35s 169ms/step - loss: 2.6057 - accuracy: 0.2857\n",
            "Epoch 2/50\n",
            "182/182 [==============================] - ETA: 0s - loss: 1.9531 - accuracy: 0.4317\n",
            "Epoch 2: accuracy improved from 0.28570 to 0.43166, saving model to tmp/checkpoints/ckpt_2\n",
            "182/182 [==============================] - 33s 171ms/step - loss: 1.9531 - accuracy: 0.4317\n",
            "Epoch 3/50\n",
            "182/182 [==============================] - ETA: 0s - loss: 1.6556 - accuracy: 0.5144\n",
            "Epoch 3: accuracy improved from 0.43166 to 0.51439, saving model to tmp/checkpoints/ckpt_3\n",
            "182/182 [==============================] - 33s 171ms/step - loss: 1.6556 - accuracy: 0.5144\n",
            "Epoch 4/50\n",
            "182/182 [==============================] - ETA: 0s - loss: 1.4900 - accuracy: 0.5585\n",
            "Epoch 4: accuracy improved from 0.51439 to 0.55850, saving model to tmp/checkpoints/ckpt_4\n",
            "182/182 [==============================] - 33s 172ms/step - loss: 1.4900 - accuracy: 0.5585\n",
            "Epoch 5/50\n",
            "182/182 [==============================] - ETA: 0s - loss: 1.3926 - accuracy: 0.5837\n",
            "Epoch 5: accuracy improved from 0.55850 to 0.58374, saving model to tmp/checkpoints/ckpt_5\n",
            "182/182 [==============================] - 33s 171ms/step - loss: 1.3926 - accuracy: 0.5837\n",
            "Epoch 6/50\n",
            "182/182 [==============================] - ETA: 0s - loss: 1.3277 - accuracy: 0.6004\n",
            "Epoch 6: accuracy improved from 0.58374 to 0.60045, saving model to tmp/checkpoints/ckpt_6\n",
            "182/182 [==============================] - 33s 171ms/step - loss: 1.3277 - accuracy: 0.6004\n",
            "Epoch 7/50\n",
            "182/182 [==============================] - ETA: 0s - loss: 1.2775 - accuracy: 0.6120\n",
            "Epoch 7: accuracy improved from 0.60045 to 0.61202, saving model to tmp/checkpoints/ckpt_7\n",
            "182/182 [==============================] - 33s 171ms/step - loss: 1.2775 - accuracy: 0.6120\n",
            "Epoch 8/50\n",
            "182/182 [==============================] - ETA: 0s - loss: 1.2390 - accuracy: 0.6222\n",
            "Epoch 8: accuracy improved from 0.61202 to 0.62220, saving model to tmp/checkpoints/ckpt_8\n",
            "182/182 [==============================] - 33s 171ms/step - loss: 1.2390 - accuracy: 0.6222\n",
            "Epoch 9/50\n",
            "182/182 [==============================] - ETA: 0s - loss: 1.2068 - accuracy: 0.6306\n",
            "Epoch 9: accuracy improved from 0.62220 to 0.63057, saving model to tmp/checkpoints/ckpt_9\n",
            "182/182 [==============================] - 33s 171ms/step - loss: 1.2068 - accuracy: 0.6306\n",
            "Epoch 10/50\n",
            "182/182 [==============================] - ETA: 0s - loss: 1.1806 - accuracy: 0.6377\n",
            "Epoch 10: accuracy improved from 0.63057 to 0.63772, saving model to tmp/checkpoints/ckpt_10\n",
            "182/182 [==============================] - 33s 171ms/step - loss: 1.1806 - accuracy: 0.6377\n",
            "Epoch 11/50\n",
            "182/182 [==============================] - ETA: 0s - loss: 1.1564 - accuracy: 0.6444\n",
            "Epoch 11: accuracy improved from 0.63772 to 0.64444, saving model to tmp/checkpoints/ckpt_11\n",
            "182/182 [==============================] - 33s 171ms/step - loss: 1.1564 - accuracy: 0.6444\n",
            "Epoch 12/50\n",
            "182/182 [==============================] - ETA: 0s - loss: 1.1332 - accuracy: 0.6509\n",
            "Epoch 12: accuracy improved from 0.64444 to 0.65087, saving model to tmp/checkpoints/ckpt_12\n",
            "182/182 [==============================] - 33s 171ms/step - loss: 1.1332 - accuracy: 0.6509\n",
            "Epoch 13/50\n",
            "182/182 [==============================] - ETA: 0s - loss: 1.1121 - accuracy: 0.6571\n",
            "Epoch 13: accuracy improved from 0.65087 to 0.65705, saving model to tmp/checkpoints/ckpt_13\n",
            "182/182 [==============================] - 33s 171ms/step - loss: 1.1121 - accuracy: 0.6571\n",
            "Epoch 14/50\n",
            "182/182 [==============================] - ETA: 0s - loss: 1.0913 - accuracy: 0.6631\n",
            "Epoch 14: accuracy improved from 0.65705 to 0.66309, saving model to tmp/checkpoints/ckpt_14\n",
            "182/182 [==============================] - 33s 171ms/step - loss: 1.0913 - accuracy: 0.6631\n",
            "Epoch 15/50\n",
            "182/182 [==============================] - ETA: 0s - loss: 1.0699 - accuracy: 0.6690\n",
            "Epoch 15: accuracy improved from 0.66309 to 0.66899, saving model to tmp/checkpoints/ckpt_15\n",
            "182/182 [==============================] - 33s 172ms/step - loss: 1.0699 - accuracy: 0.6690\n",
            "Epoch 16/50\n",
            "182/182 [==============================] - ETA: 0s - loss: 1.0502 - accuracy: 0.6757\n",
            "Epoch 16: accuracy improved from 0.66899 to 0.67573, saving model to tmp/checkpoints/ckpt_16\n",
            "182/182 [==============================] - 33s 171ms/step - loss: 1.0502 - accuracy: 0.6757\n",
            "Epoch 17/50\n",
            "182/182 [==============================] - ETA: 0s - loss: 1.0288 - accuracy: 0.6823\n",
            "Epoch 17: accuracy improved from 0.67573 to 0.68229, saving model to tmp/checkpoints/ckpt_17\n",
            "182/182 [==============================] - 33s 172ms/step - loss: 1.0288 - accuracy: 0.6823\n",
            "Epoch 18/50\n",
            "182/182 [==============================] - ETA: 0s - loss: 1.0070 - accuracy: 0.6889\n",
            "Epoch 18: accuracy improved from 0.68229 to 0.68889, saving model to tmp/checkpoints/ckpt_18\n",
            "182/182 [==============================] - 33s 172ms/step - loss: 1.0070 - accuracy: 0.6889\n",
            "Epoch 19/50\n",
            "182/182 [==============================] - ETA: 0s - loss: 0.9855 - accuracy: 0.6958\n",
            "Epoch 19: accuracy improved from 0.68889 to 0.69580, saving model to tmp/checkpoints/ckpt_19\n",
            "182/182 [==============================] - 33s 172ms/step - loss: 0.9855 - accuracy: 0.6958\n",
            "Epoch 20/50\n",
            "182/182 [==============================] - ETA: 0s - loss: 0.9642 - accuracy: 0.7030\n",
            "Epoch 20: accuracy improved from 0.69580 to 0.70296, saving model to tmp/checkpoints/ckpt_20\n",
            "182/182 [==============================] - 33s 171ms/step - loss: 0.9642 - accuracy: 0.7030\n",
            "Epoch 21/50\n",
            "182/182 [==============================] - ETA: 0s - loss: 0.9415 - accuracy: 0.7105\n",
            "Epoch 21: accuracy improved from 0.70296 to 0.71052, saving model to tmp/checkpoints/ckpt_21\n",
            "182/182 [==============================] - 33s 171ms/step - loss: 0.9415 - accuracy: 0.7105\n",
            "Epoch 22/50\n",
            "182/182 [==============================] - ETA: 0s - loss: 0.9183 - accuracy: 0.7185\n",
            "Epoch 22: accuracy improved from 0.71052 to 0.71854, saving model to tmp/checkpoints/ckpt_22\n",
            "182/182 [==============================] - 33s 172ms/step - loss: 0.9183 - accuracy: 0.7185\n",
            "Epoch 23/50\n",
            "182/182 [==============================] - ETA: 0s - loss: 0.8960 - accuracy: 0.7265\n",
            "Epoch 23: accuracy improved from 0.71854 to 0.72647, saving model to tmp/checkpoints/ckpt_23\n",
            "182/182 [==============================] - 33s 172ms/step - loss: 0.8960 - accuracy: 0.7265\n",
            "Epoch 24/50\n",
            "182/182 [==============================] - ETA: 0s - loss: 0.8722 - accuracy: 0.7344\n",
            "Epoch 24: accuracy improved from 0.72647 to 0.73443, saving model to tmp/checkpoints/ckpt_24\n",
            "182/182 [==============================] - 33s 172ms/step - loss: 0.8722 - accuracy: 0.7344\n",
            "Epoch 25/50\n",
            "182/182 [==============================] - ETA: 0s - loss: 0.8482 - accuracy: 0.7430\n",
            "Epoch 25: accuracy improved from 0.73443 to 0.74302, saving model to tmp/checkpoints/ckpt_25\n",
            "182/182 [==============================] - 33s 172ms/step - loss: 0.8482 - accuracy: 0.7430\n",
            "Epoch 26/50\n",
            "182/182 [==============================] - ETA: 0s - loss: 0.8258 - accuracy: 0.7514\n",
            "Epoch 26: accuracy improved from 0.74302 to 0.75140, saving model to tmp/checkpoints/ckpt_26\n",
            "182/182 [==============================] - 33s 171ms/step - loss: 0.8258 - accuracy: 0.7514\n",
            "Epoch 27/50\n",
            "182/182 [==============================] - ETA: 0s - loss: 0.8029 - accuracy: 0.7595\n",
            "Epoch 27: accuracy improved from 0.75140 to 0.75954, saving model to tmp/checkpoints/ckpt_27\n",
            "182/182 [==============================] - 33s 171ms/step - loss: 0.8029 - accuracy: 0.7595\n",
            "Epoch 28/50\n",
            "182/182 [==============================] - ETA: 0s - loss: 0.7805 - accuracy: 0.7680\n",
            "Epoch 28: accuracy improved from 0.75954 to 0.76804, saving model to tmp/checkpoints/ckpt_28\n",
            "182/182 [==============================] - 33s 170ms/step - loss: 0.7805 - accuracy: 0.7680\n",
            "Epoch 29/50\n",
            "182/182 [==============================] - ETA: 0s - loss: 0.7592 - accuracy: 0.7759\n",
            "Epoch 29: accuracy improved from 0.76804 to 0.77594, saving model to tmp/checkpoints/ckpt_29\n",
            "182/182 [==============================] - 33s 172ms/step - loss: 0.7592 - accuracy: 0.7759\n",
            "Epoch 30/50\n",
            "182/182 [==============================] - ETA: 0s - loss: 0.7364 - accuracy: 0.7844\n",
            "Epoch 30: accuracy improved from 0.77594 to 0.78445, saving model to tmp/checkpoints/ckpt_30\n",
            "182/182 [==============================] - 33s 172ms/step - loss: 0.7364 - accuracy: 0.7844\n",
            "Epoch 31/50\n",
            "182/182 [==============================] - ETA: 0s - loss: 0.7160 - accuracy: 0.7919\n",
            "Epoch 31: accuracy improved from 0.78445 to 0.79195, saving model to tmp/checkpoints/ckpt_31\n",
            "182/182 [==============================] - 33s 172ms/step - loss: 0.7160 - accuracy: 0.7919\n",
            "Epoch 32/50\n",
            "182/182 [==============================] - ETA: 0s - loss: 0.6959 - accuracy: 0.7995\n",
            "Epoch 32: accuracy improved from 0.79195 to 0.79947, saving model to tmp/checkpoints/ckpt_32\n",
            "182/182 [==============================] - 33s 171ms/step - loss: 0.6959 - accuracy: 0.7995\n",
            "Epoch 33/50\n",
            "182/182 [==============================] - ETA: 0s - loss: 0.6770 - accuracy: 0.8070\n",
            "Epoch 33: accuracy improved from 0.79947 to 0.80702, saving model to tmp/checkpoints/ckpt_33\n",
            "182/182 [==============================] - 33s 171ms/step - loss: 0.6770 - accuracy: 0.8070\n",
            "Epoch 34/50\n",
            "182/182 [==============================] - ETA: 0s - loss: 0.6589 - accuracy: 0.8140\n",
            "Epoch 34: accuracy improved from 0.80702 to 0.81403, saving model to tmp/checkpoints/ckpt_34\n",
            "182/182 [==============================] - 33s 171ms/step - loss: 0.6589 - accuracy: 0.8140\n",
            "Epoch 35/50\n",
            "182/182 [==============================] - ETA: 0s - loss: 0.6417 - accuracy: 0.8205\n",
            "Epoch 35: accuracy improved from 0.81403 to 0.82053, saving model to tmp/checkpoints/ckpt_35\n",
            "182/182 [==============================] - 33s 170ms/step - loss: 0.6417 - accuracy: 0.8205\n",
            "Epoch 36/50\n",
            "182/182 [==============================] - ETA: 0s - loss: 0.6266 - accuracy: 0.8266\n",
            "Epoch 36: accuracy improved from 0.82053 to 0.82655, saving model to tmp/checkpoints/ckpt_36\n",
            "182/182 [==============================] - 33s 170ms/step - loss: 0.6266 - accuracy: 0.8266\n",
            "Epoch 37/50\n",
            "182/182 [==============================] - ETA: 0s - loss: 0.6103 - accuracy: 0.8331\n",
            "Epoch 37: accuracy improved from 0.82655 to 0.83306, saving model to tmp/checkpoints/ckpt_37\n",
            "182/182 [==============================] - 33s 170ms/step - loss: 0.6103 - accuracy: 0.8331\n",
            "Epoch 38/50\n",
            "182/182 [==============================] - ETA: 0s - loss: 0.5971 - accuracy: 0.8378\n",
            "Epoch 38: accuracy improved from 0.83306 to 0.83782, saving model to tmp/checkpoints/ckpt_38\n",
            "182/182 [==============================] - 33s 171ms/step - loss: 0.5971 - accuracy: 0.8378\n",
            "Epoch 39/50\n",
            "182/182 [==============================] - ETA: 0s - loss: 0.5838 - accuracy: 0.8434\n",
            "Epoch 39: accuracy improved from 0.83782 to 0.84342, saving model to tmp/checkpoints/ckpt_39\n",
            "182/182 [==============================] - 32s 169ms/step - loss: 0.5838 - accuracy: 0.8434\n",
            "Epoch 40/50\n",
            "182/182 [==============================] - ETA: 0s - loss: 0.5698 - accuracy: 0.8490\n",
            "Epoch 40: accuracy improved from 0.84342 to 0.84897, saving model to tmp/checkpoints/ckpt_40\n",
            "182/182 [==============================] - 33s 170ms/step - loss: 0.5698 - accuracy: 0.8490\n",
            "Epoch 41/50\n",
            "182/182 [==============================] - ETA: 0s - loss: 0.5582 - accuracy: 0.8533\n",
            "Epoch 41: accuracy improved from 0.84897 to 0.85327, saving model to tmp/checkpoints/ckpt_41\n",
            "182/182 [==============================] - 33s 170ms/step - loss: 0.5582 - accuracy: 0.8533\n",
            "Epoch 42/50\n",
            "182/182 [==============================] - ETA: 0s - loss: 0.5463 - accuracy: 0.8582\n",
            "Epoch 42: accuracy improved from 0.85327 to 0.85817, saving model to tmp/checkpoints/ckpt_42\n",
            "182/182 [==============================] - 33s 171ms/step - loss: 0.5463 - accuracy: 0.8582\n",
            "Epoch 43/50\n",
            "182/182 [==============================] - ETA: 0s - loss: 0.5344 - accuracy: 0.8623\n",
            "Epoch 43: accuracy improved from 0.85817 to 0.86227, saving model to tmp/checkpoints/ckpt_43\n",
            "182/182 [==============================] - 33s 170ms/step - loss: 0.5344 - accuracy: 0.8623\n",
            "Epoch 44/50\n",
            "182/182 [==============================] - ETA: 0s - loss: 0.5251 - accuracy: 0.8659\n",
            "Epoch 44: accuracy improved from 0.86227 to 0.86593, saving model to tmp/checkpoints/ckpt_44\n",
            "182/182 [==============================] - 33s 171ms/step - loss: 0.5251 - accuracy: 0.8659\n",
            "Epoch 45/50\n",
            "182/182 [==============================] - ETA: 0s - loss: 0.5157 - accuracy: 0.8695\n",
            "Epoch 45: accuracy improved from 0.86593 to 0.86945, saving model to tmp/checkpoints/ckpt_45\n",
            "182/182 [==============================] - 33s 172ms/step - loss: 0.5157 - accuracy: 0.8695\n",
            "Epoch 46/50\n",
            "182/182 [==============================] - ETA: 0s - loss: 0.5070 - accuracy: 0.8728\n",
            "Epoch 46: accuracy improved from 0.86945 to 0.87282, saving model to tmp/checkpoints/ckpt_46\n",
            "182/182 [==============================] - 33s 172ms/step - loss: 0.5070 - accuracy: 0.8728\n",
            "Epoch 47/50\n",
            "182/182 [==============================] - ETA: 0s - loss: 0.4989 - accuracy: 0.8761\n",
            "Epoch 47: accuracy improved from 0.87282 to 0.87614, saving model to tmp/checkpoints/ckpt_47\n",
            "182/182 [==============================] - 33s 171ms/step - loss: 0.4989 - accuracy: 0.8761\n",
            "Epoch 48/50\n",
            "182/182 [==============================] - ETA: 0s - loss: 0.4916 - accuracy: 0.8788\n",
            "Epoch 48: accuracy improved from 0.87614 to 0.87877, saving model to tmp/checkpoints/ckpt_48\n",
            "182/182 [==============================] - 33s 172ms/step - loss: 0.4916 - accuracy: 0.8788\n",
            "Epoch 49/50\n",
            "182/182 [==============================] - ETA: 0s - loss: 0.4849 - accuracy: 0.8815\n",
            "Epoch 49: accuracy improved from 0.87877 to 0.88151, saving model to tmp/checkpoints/ckpt_49\n",
            "182/182 [==============================] - 33s 171ms/step - loss: 0.4849 - accuracy: 0.8815\n",
            "Epoch 50/50\n",
            "182/182 [==============================] - ETA: 0s - loss: 0.4786 - accuracy: 0.8835\n",
            "Epoch 50: accuracy improved from 0.88151 to 0.88354, saving model to tmp/checkpoints/ckpt_50\n",
            "182/182 [==============================] - 33s 171ms/step - loss: 0.4786 - accuracy: 0.8835\n"
          ]
        }
      ],
      "source": [
        "EPOCHS = 50\n",
        "history = lstm_model.fit(dataset, epochs=EPOCHS, callbacks=[checkpoint_callback])"
      ]
    },
    {
      "cell_type": "code",
      "execution_count": null,
      "metadata": {
        "id": "uZemRCoHlS7R"
      },
      "outputs": [],
      "source": [
        "checkpoint_dir = 'tmp/checkpoints'\n",
        "simplified_batch_size = 1\n",
        "\n",
        "lstm_model = build_lstm_model(vocab_size, embedding_dim, rnn_units, batch_size=1)\n",
        "\n",
        "lstm_model.load_weights(tf.train.latest_checkpoint(checkpoint_dir))\n",
        "\n",
        "lstm_model.build(tf.TensorShape([simplified_batch_size, None]))"
      ]
    },
    {
      "cell_type": "code",
      "execution_count": null,
      "metadata": {
        "id": "1SDV98hPU0_b"
      },
      "outputs": [],
      "source": [
        "def generate_text(model, start_string, num_generate = 1000, temperature=1.0):\n",
        "    start = time.time()\n",
        "    input_indices = [char2index[s] for s in start_string]\n",
        "    input_indices = tf.expand_dims(input_indices, 0)\n",
        "    text_generated = []\n",
        "\n",
        "    model.reset_states() \n",
        "    for char_index in range(num_generate):\n",
        "        predictions = model(input_indices)\n",
        "        predictions = tf.squeeze(predictions, 0)\n",
        "        predictions = predictions / temperature\n",
        "        predicted_id = tf.random.categorical(predictions,num_samples=1)[-1,0].numpy()\n",
        "        input_indices = tf.expand_dims([predicted_id], 0)\n",
        "        text_generated.append(index2char[predicted_id])\n",
        "    end = time.time()\n",
        "\n",
        "    global lstm_time\n",
        "    lstm_time = end-start\n",
        "\n",
        "    print(start_string + ''.join(text_generated))\n",
        "    print('\\nRun time:', lstm_time)"
      ]
    },
    {
      "cell_type": "code",
      "execution_count": null,
      "metadata": {
        "colab": {
          "base_uri": "https://localhost:8080/"
        },
        "id": "ssCVziOck-Up",
        "outputId": "df13dc4d-d102-4e37-d1ad-2d29cf543fb0"
      },
      "outputs": [
        {
          "output_type": "stream",
          "name": "stdout",
          "text": [
            "they) But their country, perhaps,\r\n",
            "from consciousness what a strong, that since I know that on purpose whatever man whose curses, the murderer was truek, he angrily absents,\r\n",
            "Raskolnikov wanted to ask you by being for sign the Yusupov high-fact I should fird\r\n",
            "everything, and then he began quietly and eagerly quivering with\r\n",
            "a burgais sincerely. It’s nothing but misery. She sent yet me with\r\n",
            "your love, and mention for my own account! Talt--and uneasy aversion\r\n",
            "here?” Raskolnikov fainting, all her chest!”\r\n",
            "\r\n",
            "“No, Rodya, but he knows already on which he was firmly like peround, jumping up.”\r\n",
            "\r\n",
            "“Excuse me, sir,” said Luzhin, affronted, and speaking to him up at once\r\n",
            "shone her own floating it, he had often been\r\n",
            "hiden in such as tried to ask you, what could be....\r\n",
            "How truehintering a long coat\r\n",
            "and a new black silk dress, so base even before\r\n",
            "the old pawnbroker-woman. What do you mean be sure to come in great that had come. They will\r\n",
            "don’t believe she’s not a pen, it’s unlike the morning,” L\n",
            "\n",
            "Run time: 9.467825651168823\n",
            "None\n"
          ]
        }
      ],
      "source": [
        "print(generate_text(lstm_model, start_string=u'they'))"
      ]
    },
    {
      "cell_type": "markdown",
      "metadata": {
        "id": "PK-JSbZwTWPi"
      },
      "source": [
        "## Basic RNN Model"
      ]
    },
    {
      "cell_type": "code",
      "execution_count": null,
      "metadata": {
        "id": "dL_gYEgvlDS4"
      },
      "outputs": [],
      "source": [
        "def build_rnn_model(vocab_size, embedding_dim, rnn_units, batch_size):\n",
        "    rnn_model = tf.keras.models.Sequential()\n",
        "\n",
        "    rnn_model.add(tf.keras.layers.Embedding(\n",
        "      input_dim=vocab_size,\n",
        "      output_dim=embedding_dim,\n",
        "      batch_input_shape=[batch_size, None]\n",
        "    ))\n",
        "\n",
        "\n",
        "    rnn_model.add(tf.keras.layers.SimpleRNN( units=rnn_units,return_sequences=True, stateful=True,recurrent_initializer=tf.keras.initializers.GlorotNormal()))\n",
        "\n",
        "    rnn_model.add(tf.keras.layers.Dense(vocab_size))\n",
        "  \n",
        "    return rnn_model"
      ]
    },
    {
      "cell_type": "code",
      "execution_count": null,
      "metadata": {
        "id": "7DVihwyE1-Qc"
      },
      "outputs": [],
      "source": [
        "rnn_model = build_rnn_model(\n",
        "    vocab_size=len(vocab),\n",
        "    embedding_dim=embedding_dim,\n",
        "    rnn_units=rnn_units,\n",
        "    batch_size=BATCH_SIZE)"
      ]
    },
    {
      "cell_type": "code",
      "execution_count": null,
      "metadata": {
        "colab": {
          "base_uri": "https://localhost:8080/"
        },
        "id": "khugfq_H2DpO",
        "outputId": "bc31ced7-d9b4-44fc-f0da-3f31ddfc7a4f"
      },
      "outputs": [
        {
          "output_type": "stream",
          "name": "stdout",
          "text": [
            "Model: \"sequential_2\"\n",
            "_________________________________________________________________\n",
            " Layer (type)                Output Shape              Param #   \n",
            "=================================================================\n",
            " embedding_2 (Embedding)     (64, None, 256)           25856     \n",
            "                                                                 \n",
            " simple_rnn (SimpleRNN)      (64, None, 1024)          1311744   \n",
            "                                                                 \n",
            " dense_2 (Dense)             (64, None, 101)           103525    \n",
            "                                                                 \n",
            "=================================================================\n",
            "Total params: 1,441,125\n",
            "Trainable params: 1,441,125\n",
            "Non-trainable params: 0\n",
            "_________________________________________________________________\n"
          ]
        }
      ],
      "source": [
        "rnn_model.summary()"
      ]
    },
    {
      "cell_type": "code",
      "execution_count": null,
      "metadata": {
        "colab": {
          "base_uri": "https://localhost:8080/"
        },
        "id": "zcMnujE92M3k",
        "outputId": "c98e7619-6adb-49e4-89e6-9e44b8d089ff"
      },
      "outputs": [
        {
          "output_type": "stream",
          "name": "stdout",
          "text": [
            "(64, 100, 101)\n"
          ]
        }
      ],
      "source": [
        "for input_example_batch, target_example_batch in dataset.take(1):\n",
        "    example_batch_predictions = rnn_model(input_example_batch)\n",
        "    print(example_batch_predictions.shape)"
      ]
    },
    {
      "cell_type": "code",
      "execution_count": null,
      "metadata": {
        "id": "-3Oi1kKi2VUA"
      },
      "outputs": [],
      "source": [
        "loss = tf.losses.SparseCategoricalCrossentropy(from_logits=True)\n",
        "adam_optimizer = tf.keras.optimizers.Adam(learning_rate=0.001)\n",
        "rnn_model.compile(\n",
        "\n",
        " optimizer=adam_optimizer,\n",
        " loss=loss,\n",
        " metrics=['accuracy']\n",
        ")\n",
        "\n",
        "checkpoint_dir1 = 'tmp/checkpoints1'\n",
        "os.makedirs(checkpoint_dir1, exist_ok=True)\n",
        "\n",
        "checkpoint_prefix = os.path.join(checkpoint_dir1, 'ckpt_{epoch}')\n",
        "\n",
        "checkpoint_callback = tf.keras.callbacks.ModelCheckpoint(filepath=checkpoint_prefix, monitor='accuracy', verbose=1, save_weights_only=True, save_best_only=True, mode='max')"
      ]
    },
    {
      "cell_type": "code",
      "execution_count": null,
      "metadata": {
        "colab": {
          "base_uri": "https://localhost:8080/"
        },
        "id": "7ksWDh182j6q",
        "outputId": "7eb81642-7ab7-486f-b3cc-2d2de851d860"
      },
      "outputs": [
        {
          "output_type": "stream",
          "name": "stdout",
          "text": [
            "Epoch 1/50\n",
            "182/182 [==============================] - ETA: 0s - loss: 2.5711 - accuracy: 0.2988\n",
            "Epoch 1: accuracy improved from -inf to 0.29878, saving model to tmp/checkpoints1/ckpt_1\n",
            "182/182 [==============================] - 29s 143ms/step - loss: 2.5711 - accuracy: 0.2988\n",
            "Epoch 2/50\n",
            "182/182 [==============================] - ETA: 0s - loss: 1.9522 - accuracy: 0.4371\n",
            "Epoch 2: accuracy improved from 0.29878 to 0.43709, saving model to tmp/checkpoints1/ckpt_2\n",
            "182/182 [==============================] - 27s 140ms/step - loss: 1.9522 - accuracy: 0.4371\n",
            "Epoch 3/50\n",
            "182/182 [==============================] - ETA: 0s - loss: 1.6875 - accuracy: 0.5074\n",
            "Epoch 3: accuracy improved from 0.43709 to 0.50737, saving model to tmp/checkpoints1/ckpt_3\n",
            "182/182 [==============================] - 27s 140ms/step - loss: 1.6875 - accuracy: 0.5074\n",
            "Epoch 4/50\n",
            "182/182 [==============================] - ETA: 0s - loss: 1.5458 - accuracy: 0.5448\n",
            "Epoch 4: accuracy improved from 0.50737 to 0.54484, saving model to tmp/checkpoints1/ckpt_4\n",
            "182/182 [==============================] - 27s 141ms/step - loss: 1.5458 - accuracy: 0.5448\n",
            "Epoch 5/50\n",
            "182/182 [==============================] - ETA: 0s - loss: 1.4579 - accuracy: 0.5678\n",
            "Epoch 5: accuracy improved from 0.54484 to 0.56781, saving model to tmp/checkpoints1/ckpt_5\n",
            "182/182 [==============================] - 28s 142ms/step - loss: 1.4579 - accuracy: 0.5678\n",
            "Epoch 6/50\n",
            "182/182 [==============================] - ETA: 0s - loss: 1.3992 - accuracy: 0.5826\n",
            "Epoch 6: accuracy improved from 0.56781 to 0.58261, saving model to tmp/checkpoints1/ckpt_6\n",
            "182/182 [==============================] - 28s 142ms/step - loss: 1.3992 - accuracy: 0.5826\n",
            "Epoch 7/50\n",
            "182/182 [==============================] - ETA: 0s - loss: 1.3548 - accuracy: 0.5930\n",
            "Epoch 7: accuracy improved from 0.58261 to 0.59302, saving model to tmp/checkpoints1/ckpt_7\n",
            "182/182 [==============================] - 27s 141ms/step - loss: 1.3548 - accuracy: 0.5930\n",
            "Epoch 8/50\n",
            "182/182 [==============================] - ETA: 0s - loss: 1.3208 - accuracy: 0.6020\n",
            "Epoch 8: accuracy improved from 0.59302 to 0.60200, saving model to tmp/checkpoints1/ckpt_8\n",
            "182/182 [==============================] - 28s 143ms/step - loss: 1.3208 - accuracy: 0.6020\n",
            "Epoch 9/50\n",
            "182/182 [==============================] - ETA: 0s - loss: 1.2949 - accuracy: 0.6082\n",
            "Epoch 9: accuracy improved from 0.60200 to 0.60824, saving model to tmp/checkpoints1/ckpt_9\n",
            "182/182 [==============================] - 28s 143ms/step - loss: 1.2949 - accuracy: 0.6082\n",
            "Epoch 10/50\n",
            "182/182 [==============================] - ETA: 0s - loss: 1.2716 - accuracy: 0.6142\n",
            "Epoch 10: accuracy improved from 0.60824 to 0.61419, saving model to tmp/checkpoints1/ckpt_10\n",
            "182/182 [==============================] - 27s 141ms/step - loss: 1.2716 - accuracy: 0.6142\n",
            "Epoch 11/50\n",
            "182/182 [==============================] - ETA: 0s - loss: 1.2493 - accuracy: 0.6200\n",
            "Epoch 11: accuracy improved from 0.61419 to 0.61996, saving model to tmp/checkpoints1/ckpt_11\n",
            "182/182 [==============================] - 28s 143ms/step - loss: 1.2493 - accuracy: 0.6200\n",
            "Epoch 12/50\n",
            "182/182 [==============================] - ETA: 0s - loss: 1.2335 - accuracy: 0.6242\n",
            "Epoch 12: accuracy improved from 0.61996 to 0.62419, saving model to tmp/checkpoints1/ckpt_12\n",
            "182/182 [==============================] - 28s 143ms/step - loss: 1.2335 - accuracy: 0.6242\n",
            "Epoch 13/50\n",
            "182/182 [==============================] - ETA: 0s - loss: 1.2168 - accuracy: 0.6286\n",
            "Epoch 13: accuracy improved from 0.62419 to 0.62863, saving model to tmp/checkpoints1/ckpt_13\n",
            "182/182 [==============================] - 28s 145ms/step - loss: 1.2168 - accuracy: 0.6286\n",
            "Epoch 14/50\n",
            "182/182 [==============================] - ETA: 0s - loss: 1.2016 - accuracy: 0.6327\n",
            "Epoch 14: accuracy improved from 0.62863 to 0.63270, saving model to tmp/checkpoints1/ckpt_14\n",
            "182/182 [==============================] - 28s 143ms/step - loss: 1.2016 - accuracy: 0.6327\n",
            "Epoch 15/50\n",
            "182/182 [==============================] - ETA: 0s - loss: 1.1889 - accuracy: 0.6361\n",
            "Epoch 15: accuracy improved from 0.63270 to 0.63605, saving model to tmp/checkpoints1/ckpt_15\n",
            "182/182 [==============================] - 28s 145ms/step - loss: 1.1889 - accuracy: 0.6361\n",
            "Epoch 16/50\n",
            "182/182 [==============================] - ETA: 0s - loss: 1.1748 - accuracy: 0.6397\n",
            "Epoch 16: accuracy improved from 0.63605 to 0.63968, saving model to tmp/checkpoints1/ckpt_16\n",
            "182/182 [==============================] - 27s 142ms/step - loss: 1.1748 - accuracy: 0.6397\n",
            "Epoch 17/50\n",
            "182/182 [==============================] - ETA: 0s - loss: 1.1630 - accuracy: 0.6435\n",
            "Epoch 17: accuracy improved from 0.63968 to 0.64355, saving model to tmp/checkpoints1/ckpt_17\n",
            "182/182 [==============================] - 28s 142ms/step - loss: 1.1630 - accuracy: 0.6435\n",
            "Epoch 18/50\n",
            "182/182 [==============================] - ETA: 0s - loss: 1.1509 - accuracy: 0.6466\n",
            "Epoch 18: accuracy improved from 0.64355 to 0.64662, saving model to tmp/checkpoints1/ckpt_18\n",
            "182/182 [==============================] - 27s 142ms/step - loss: 1.1509 - accuracy: 0.6466\n",
            "Epoch 19/50\n",
            "182/182 [==============================] - ETA: 0s - loss: 1.1405 - accuracy: 0.6492\n",
            "Epoch 19: accuracy improved from 0.64662 to 0.64921, saving model to tmp/checkpoints1/ckpt_19\n",
            "182/182 [==============================] - 27s 142ms/step - loss: 1.1405 - accuracy: 0.6492\n",
            "Epoch 20/50\n",
            "182/182 [==============================] - ETA: 0s - loss: 1.1317 - accuracy: 0.6515\n",
            "Epoch 20: accuracy improved from 0.64921 to 0.65151, saving model to tmp/checkpoints1/ckpt_20\n",
            "182/182 [==============================] - 27s 141ms/step - loss: 1.1317 - accuracy: 0.6515\n",
            "Epoch 21/50\n",
            "182/182 [==============================] - ETA: 0s - loss: 1.1196 - accuracy: 0.6552\n",
            "Epoch 21: accuracy improved from 0.65151 to 0.65524, saving model to tmp/checkpoints1/ckpt_21\n",
            "182/182 [==============================] - 28s 143ms/step - loss: 1.1196 - accuracy: 0.6552\n",
            "Epoch 22/50\n",
            "182/182 [==============================] - ETA: 0s - loss: 1.1115 - accuracy: 0.6573\n",
            "Epoch 22: accuracy improved from 0.65524 to 0.65731, saving model to tmp/checkpoints1/ckpt_22\n",
            "182/182 [==============================] - 28s 144ms/step - loss: 1.1115 - accuracy: 0.6573\n",
            "Epoch 23/50\n",
            "182/182 [==============================] - ETA: 0s - loss: 1.1006 - accuracy: 0.6607\n",
            "Epoch 23: accuracy improved from 0.65731 to 0.66065, saving model to tmp/checkpoints1/ckpt_23\n",
            "182/182 [==============================] - 28s 144ms/step - loss: 1.1006 - accuracy: 0.6607\n",
            "Epoch 24/50\n",
            "182/182 [==============================] - ETA: 0s - loss: 1.0919 - accuracy: 0.6631\n",
            "Epoch 24: accuracy improved from 0.66065 to 0.66308, saving model to tmp/checkpoints1/ckpt_24\n",
            "182/182 [==============================] - 28s 146ms/step - loss: 1.0919 - accuracy: 0.6631\n",
            "Epoch 25/50\n",
            "182/182 [==============================] - ETA: 0s - loss: 1.0832 - accuracy: 0.6656\n",
            "Epoch 25: accuracy improved from 0.66308 to 0.66555, saving model to tmp/checkpoints1/ckpt_25\n",
            "182/182 [==============================] - 28s 146ms/step - loss: 1.0832 - accuracy: 0.6656\n",
            "Epoch 26/50\n",
            "182/182 [==============================] - ETA: 0s - loss: 1.0737 - accuracy: 0.6682\n",
            "Epoch 26: accuracy improved from 0.66555 to 0.66817, saving model to tmp/checkpoints1/ckpt_26\n",
            "182/182 [==============================] - 28s 143ms/step - loss: 1.0737 - accuracy: 0.6682\n",
            "Epoch 27/50\n",
            "182/182 [==============================] - ETA: 0s - loss: 1.0669 - accuracy: 0.6706\n",
            "Epoch 27: accuracy improved from 0.66817 to 0.67058, saving model to tmp/checkpoints1/ckpt_27\n",
            "182/182 [==============================] - 28s 144ms/step - loss: 1.0669 - accuracy: 0.6706\n",
            "Epoch 28/50\n",
            "182/182 [==============================] - ETA: 0s - loss: 1.0592 - accuracy: 0.6727\n",
            "Epoch 28: accuracy improved from 0.67058 to 0.67267, saving model to tmp/checkpoints1/ckpt_28\n",
            "182/182 [==============================] - 28s 143ms/step - loss: 1.0592 - accuracy: 0.6727\n",
            "Epoch 29/50\n",
            "182/182 [==============================] - ETA: 0s - loss: 1.0506 - accuracy: 0.6751\n",
            "Epoch 29: accuracy improved from 0.67267 to 0.67514, saving model to tmp/checkpoints1/ckpt_29\n",
            "182/182 [==============================] - 28s 143ms/step - loss: 1.0506 - accuracy: 0.6751\n",
            "Epoch 30/50\n",
            "182/182 [==============================] - ETA: 0s - loss: 1.0428 - accuracy: 0.6774\n",
            "Epoch 30: accuracy improved from 0.67514 to 0.67740, saving model to tmp/checkpoints1/ckpt_30\n",
            "182/182 [==============================] - 28s 145ms/step - loss: 1.0428 - accuracy: 0.6774\n",
            "Epoch 31/50\n",
            "182/182 [==============================] - ETA: 0s - loss: 1.0366 - accuracy: 0.6796\n",
            "Epoch 31: accuracy improved from 0.67740 to 0.67956, saving model to tmp/checkpoints1/ckpt_31\n",
            "182/182 [==============================] - 28s 145ms/step - loss: 1.0366 - accuracy: 0.6796\n",
            "Epoch 32/50\n",
            "182/182 [==============================] - ETA: 0s - loss: 1.0290 - accuracy: 0.6817\n",
            "Epoch 32: accuracy improved from 0.67956 to 0.68172, saving model to tmp/checkpoints1/ckpt_32\n",
            "182/182 [==============================] - 29s 148ms/step - loss: 1.0290 - accuracy: 0.6817\n",
            "Epoch 33/50\n",
            "182/182 [==============================] - ETA: 0s - loss: 1.0224 - accuracy: 0.6833\n",
            "Epoch 33: accuracy improved from 0.68172 to 0.68334, saving model to tmp/checkpoints1/ckpt_33\n",
            "182/182 [==============================] - 29s 147ms/step - loss: 1.0224 - accuracy: 0.6833\n",
            "Epoch 34/50\n",
            "182/182 [==============================] - ETA: 0s - loss: 1.0172 - accuracy: 0.6850\n",
            "Epoch 34: accuracy improved from 0.68334 to 0.68504, saving model to tmp/checkpoints1/ckpt_34\n",
            "182/182 [==============================] - 29s 148ms/step - loss: 1.0172 - accuracy: 0.6850\n",
            "Epoch 35/50\n",
            "182/182 [==============================] - ETA: 0s - loss: 1.0110 - accuracy: 0.6868\n",
            "Epoch 35: accuracy improved from 0.68504 to 0.68678, saving model to tmp/checkpoints1/ckpt_35\n",
            "182/182 [==============================] - 29s 147ms/step - loss: 1.0110 - accuracy: 0.6868\n",
            "Epoch 36/50\n",
            "182/182 [==============================] - ETA: 0s - loss: 1.0055 - accuracy: 0.6882\n",
            "Epoch 36: accuracy improved from 0.68678 to 0.68822, saving model to tmp/checkpoints1/ckpt_36\n",
            "182/182 [==============================] - 29s 147ms/step - loss: 1.0055 - accuracy: 0.6882\n",
            "Epoch 37/50\n",
            "182/182 [==============================] - ETA: 0s - loss: 1.0001 - accuracy: 0.6903\n",
            "Epoch 37: accuracy improved from 0.68822 to 0.69033, saving model to tmp/checkpoints1/ckpt_37\n",
            "182/182 [==============================] - 28s 145ms/step - loss: 1.0001 - accuracy: 0.6903\n",
            "Epoch 38/50\n",
            "182/182 [==============================] - ETA: 0s - loss: 0.9944 - accuracy: 0.6919\n",
            "Epoch 38: accuracy improved from 0.69033 to 0.69187, saving model to tmp/checkpoints1/ckpt_38\n",
            "182/182 [==============================] - 29s 147ms/step - loss: 0.9944 - accuracy: 0.6919\n",
            "Epoch 39/50\n",
            "182/182 [==============================] - ETA: 0s - loss: 0.9894 - accuracy: 0.6935\n",
            "Epoch 39: accuracy improved from 0.69187 to 0.69351, saving model to tmp/checkpoints1/ckpt_39\n",
            "182/182 [==============================] - 29s 147ms/step - loss: 0.9894 - accuracy: 0.6935\n",
            "Epoch 40/50\n",
            "182/182 [==============================] - ETA: 0s - loss: 0.9860 - accuracy: 0.6943\n",
            "Epoch 40: accuracy improved from 0.69351 to 0.69428, saving model to tmp/checkpoints1/ckpt_40\n",
            "182/182 [==============================] - 28s 146ms/step - loss: 0.9860 - accuracy: 0.6943\n",
            "Epoch 41/50\n",
            "182/182 [==============================] - ETA: 0s - loss: 0.9803 - accuracy: 0.6962\n",
            "Epoch 41: accuracy improved from 0.69428 to 0.69621, saving model to tmp/checkpoints1/ckpt_41\n",
            "182/182 [==============================] - 29s 147ms/step - loss: 0.9803 - accuracy: 0.6962\n",
            "Epoch 42/50\n",
            "182/182 [==============================] - ETA: 0s - loss: 0.9763 - accuracy: 0.6975\n",
            "Epoch 42: accuracy improved from 0.69621 to 0.69751, saving model to tmp/checkpoints1/ckpt_42\n",
            "182/182 [==============================] - 29s 147ms/step - loss: 0.9763 - accuracy: 0.6975\n",
            "Epoch 43/50\n",
            "182/182 [==============================] - ETA: 0s - loss: 0.9732 - accuracy: 0.6988\n",
            "Epoch 43: accuracy improved from 0.69751 to 0.69877, saving model to tmp/checkpoints1/ckpt_43\n",
            "182/182 [==============================] - 29s 148ms/step - loss: 0.9732 - accuracy: 0.6988\n",
            "Epoch 44/50\n",
            "182/182 [==============================] - ETA: 0s - loss: 0.9681 - accuracy: 0.7003\n",
            "Epoch 44: accuracy improved from 0.69877 to 0.70033, saving model to tmp/checkpoints1/ckpt_44\n",
            "182/182 [==============================] - 29s 147ms/step - loss: 0.9681 - accuracy: 0.7003\n",
            "Epoch 45/50\n",
            "182/182 [==============================] - ETA: 0s - loss: 0.9663 - accuracy: 0.7003\n",
            "Epoch 45: accuracy did not improve from 0.70033\n",
            "182/182 [==============================] - 29s 147ms/step - loss: 0.9663 - accuracy: 0.7003\n",
            "Epoch 46/50\n",
            "182/182 [==============================] - ETA: 0s - loss: 0.9629 - accuracy: 0.7015\n",
            "Epoch 46: accuracy improved from 0.70033 to 0.70149, saving model to tmp/checkpoints1/ckpt_46\n",
            "182/182 [==============================] - 29s 147ms/step - loss: 0.9629 - accuracy: 0.7015\n",
            "Epoch 47/50\n",
            "182/182 [==============================] - ETA: 0s - loss: 0.9604 - accuracy: 0.7026\n",
            "Epoch 47: accuracy improved from 0.70149 to 0.70263, saving model to tmp/checkpoints1/ckpt_47\n",
            "182/182 [==============================] - 29s 147ms/step - loss: 0.9604 - accuracy: 0.7026\n",
            "Epoch 48/50\n",
            "182/182 [==============================] - ETA: 0s - loss: 0.9592 - accuracy: 0.7030\n",
            "Epoch 48: accuracy improved from 0.70263 to 0.70296, saving model to tmp/checkpoints1/ckpt_48\n",
            "182/182 [==============================] - 29s 147ms/step - loss: 0.9592 - accuracy: 0.7030\n",
            "Epoch 49/50\n",
            "182/182 [==============================] - ETA: 0s - loss: 0.9584 - accuracy: 0.7028\n",
            "Epoch 49: accuracy did not improve from 0.70296\n",
            "182/182 [==============================] - 29s 148ms/step - loss: 0.9584 - accuracy: 0.7028\n",
            "Epoch 50/50\n",
            "182/182 [==============================] - ETA: 0s - loss: 0.9525 - accuracy: 0.7045\n",
            "Epoch 50: accuracy improved from 0.70296 to 0.70452, saving model to tmp/checkpoints1/ckpt_50\n",
            "182/182 [==============================] - 29s 147ms/step - loss: 0.9525 - accuracy: 0.7045\n"
          ]
        }
      ],
      "source": [
        "EPOCHS = 50\n",
        "history1 = rnn_model.fit(dataset, epochs=EPOCHS, callbacks=[checkpoint_callback])"
      ]
    },
    {
      "cell_type": "code",
      "execution_count": null,
      "metadata": {
        "id": "QLCUwW4rCoCU"
      },
      "outputs": [],
      "source": [
        "checkpoint_dir1 = 'tmp/checkpoints1'\n",
        "simplified_batch_size = 1\n",
        "\n",
        "rnn_model = build_rnn_model(vocab_size, embedding_dim, rnn_units, batch_size=1)\n",
        "\n",
        "rnn_model.load_weights(tf.train.latest_checkpoint(checkpoint_dir1))\n",
        "\n",
        "rnn_model.build(tf.TensorShape([simplified_batch_size, None]))"
      ]
    },
    {
      "cell_type": "code",
      "execution_count": null,
      "metadata": {
        "id": "iIdjPEbH9939"
      },
      "outputs": [],
      "source": [
        "def generate_text1(model, start_string, num_generate = 1000, temperature=1.0):\n",
        "    start = time.time()\n",
        "    input_indices = [char2index[s] for s in start_string]\n",
        "    input_indices = tf.expand_dims(input_indices, 0)\n",
        "    text_generated = []\n",
        "\n",
        "    model.reset_states() \n",
        "    for char_index in range(num_generate):\n",
        "        predictions = model(input_indices)\n",
        "        predictions = tf.squeeze(predictions, 0)\n",
        "        predictions = predictions / temperature\n",
        "        predicted_id = tf.random.categorical(predictions,num_samples=1)[-1,0].numpy()\n",
        "        input_indices = tf.expand_dims([predicted_id], 0)\n",
        "        text_generated.append(index2char[predicted_id])\n",
        "    end = time.time()\n",
        "    global rnn_time\n",
        "    rnn_time = end - start\n",
        "    print(start_string + ''.join(text_generated))\n",
        "    print('\\nRun time:', rnn_time)"
      ]
    },
    {
      "cell_type": "code",
      "execution_count": null,
      "metadata": {
        "colab": {
          "base_uri": "https://localhost:8080/"
        },
        "id": "sHg8cq1eCCXx",
        "outputId": "7c3eeeac-e50c-4fe1-96d2-604c7b31a61e"
      },
      "outputs": [
        {
          "output_type": "stream",
          "name": "stdout",
          "text": [
            "they![*]6411554] You, Rodya,” she gets the literary\r\n",
            "design,\r\n",
            "sit down.” He tooked at him like a catch me! Principles.\r\n",
            "\r\n",
            "“What? You\r\n",
            "are.’ ‘That’s wherious projecter than he can be tears and chance.\r\n",
            "\r\n",
            "“I look so. Yet indier, but ased?”\r\n",
            "\r\n",
            "He screwed the Project\r\n",
            "Gutenberg....”\r\n",
            "\r\n",
            "He got up from sense.”\r\n",
            "\r\n",
            "“Here we live\r\n",
            "sitting question, as\r\n",
            "he went touf. “Why, he thought he would have it for the big purling by Razumihin. “I\r\n",
            "go on,” he cried\r\n",
            "still\r\n",
            "suddenly, “quite followed, but quite a rice and frightened.\r\n",
            "\r\n",
            "“Honoured sir, or he answered it upon the landlady and timidly.\r\n",
            "\r\n",
            "“Yes... I am not\r\n",
            "asking about it. EBour me trial that\r\n",
            "there are not a lound hesitating where Rodya\r\n",
            "was\r\n",
            "about the requiem\r\n",
            "seven\r\n",
            "histone, ot come tool them and had apparently coming constitutes\r\n",
            "the daughter who passed through his mind, but don’t cheer Sonia mistakence and recovered, a half while he\r\n",
            "always used to visit me,” Raskolnikov answered, Rodion Romanovitch. About\r\n",
            "Katerina Ivanovna in any plahen to h\n",
            "\n",
            "Run time: 9.07625675201416\n",
            "None\n"
          ]
        }
      ],
      "source": [
        "print(generate_text1(rnn_model, start_string=u'they'))"
      ]
    },
    {
      "cell_type": "markdown",
      "metadata": {
        "id": "87eKBaOvXqeT"
      },
      "source": [
        "## Transformers - GPT2 Model"
      ]
    },
    {
      "cell_type": "code",
      "execution_count": null,
      "metadata": {
        "colab": {
          "base_uri": "https://localhost:8080/"
        },
        "id": "zqBSFK-d2ph5",
        "outputId": "099b0c38-f7d7-4453-8ff2-998aade990eb"
      },
      "outputs": [
        {
          "output_type": "stream",
          "name": "stdout",
          "text": [
            "Collecting transformers\n",
            "  Downloading transformers-4.17.0-py3-none-any.whl (3.8 MB)\n",
            "\u001b[K     |████████████████████████████████| 3.8 MB 4.9 MB/s \n",
            "\u001b[?25hCollecting pyyaml>=5.1\n",
            "  Downloading PyYAML-6.0-cp37-cp37m-manylinux_2_5_x86_64.manylinux1_x86_64.manylinux_2_12_x86_64.manylinux2010_x86_64.whl (596 kB)\n",
            "\u001b[K     |████████████████████████████████| 596 kB 10.1 MB/s \n",
            "\u001b[?25hCollecting huggingface-hub<1.0,>=0.1.0\n",
            "  Downloading huggingface_hub-0.4.0-py3-none-any.whl (67 kB)\n",
            "\u001b[K     |████████████████████████████████| 67 kB 3.4 MB/s \n",
            "\u001b[?25hRequirement already satisfied: requests in /usr/local/lib/python3.7/dist-packages (from transformers) (2.23.0)\n",
            "Requirement already satisfied: packaging>=20.0 in /usr/local/lib/python3.7/dist-packages (from transformers) (21.3)\n",
            "Collecting tokenizers!=0.11.3,>=0.11.1\n",
            "  Downloading tokenizers-0.11.6-cp37-cp37m-manylinux_2_12_x86_64.manylinux2010_x86_64.whl (6.5 MB)\n",
            "\u001b[K     |████████████████████████████████| 6.5 MB 9.6 MB/s \n",
            "\u001b[?25hRequirement already satisfied: importlib-metadata in /usr/local/lib/python3.7/dist-packages (from transformers) (4.11.2)\n",
            "Requirement already satisfied: tqdm>=4.27 in /usr/local/lib/python3.7/dist-packages (from transformers) (4.63.0)\n",
            "Requirement already satisfied: filelock in /usr/local/lib/python3.7/dist-packages (from transformers) (3.6.0)\n",
            "Requirement already satisfied: regex!=2019.12.17 in /usr/local/lib/python3.7/dist-packages (from transformers) (2019.12.20)\n",
            "Requirement already satisfied: numpy>=1.17 in /usr/local/lib/python3.7/dist-packages (from transformers) (1.21.5)\n",
            "Collecting sacremoses\n",
            "  Downloading sacremoses-0.0.49-py3-none-any.whl (895 kB)\n",
            "\u001b[K     |████████████████████████████████| 895 kB 49.0 MB/s \n",
            "\u001b[?25hRequirement already satisfied: typing-extensions>=3.7.4.3 in /usr/local/lib/python3.7/dist-packages (from huggingface-hub<1.0,>=0.1.0->transformers) (3.10.0.2)\n",
            "Requirement already satisfied: pyparsing!=3.0.5,>=2.0.2 in /usr/local/lib/python3.7/dist-packages (from packaging>=20.0->transformers) (3.0.7)\n",
            "Requirement already satisfied: zipp>=0.5 in /usr/local/lib/python3.7/dist-packages (from importlib-metadata->transformers) (3.7.0)\n",
            "Requirement already satisfied: idna<3,>=2.5 in /usr/local/lib/python3.7/dist-packages (from requests->transformers) (2.10)\n",
            "Requirement already satisfied: urllib3!=1.25.0,!=1.25.1,<1.26,>=1.21.1 in /usr/local/lib/python3.7/dist-packages (from requests->transformers) (1.24.3)\n",
            "Requirement already satisfied: certifi>=2017.4.17 in /usr/local/lib/python3.7/dist-packages (from requests->transformers) (2021.10.8)\n",
            "Requirement already satisfied: chardet<4,>=3.0.2 in /usr/local/lib/python3.7/dist-packages (from requests->transformers) (3.0.4)\n",
            "Requirement already satisfied: click in /usr/local/lib/python3.7/dist-packages (from sacremoses->transformers) (7.1.2)\n",
            "Requirement already satisfied: six in /usr/local/lib/python3.7/dist-packages (from sacremoses->transformers) (1.15.0)\n",
            "Requirement already satisfied: joblib in /usr/local/lib/python3.7/dist-packages (from sacremoses->transformers) (1.1.0)\n",
            "Installing collected packages: pyyaml, tokenizers, sacremoses, huggingface-hub, transformers\n",
            "  Attempting uninstall: pyyaml\n",
            "    Found existing installation: PyYAML 3.13\n",
            "    Uninstalling PyYAML-3.13:\n",
            "      Successfully uninstalled PyYAML-3.13\n",
            "Successfully installed huggingface-hub-0.4.0 pyyaml-6.0 sacremoses-0.0.49 tokenizers-0.11.6 transformers-4.17.0\n"
          ]
        }
      ],
      "source": [
        "!pip install transformers"
      ]
    },
    {
      "cell_type": "code",
      "execution_count": null,
      "metadata": {
        "id": "NPE2lDFMMS3n"
      },
      "outputs": [],
      "source": [
        "from transformers import TFGPT2LMHeadModel , GPT2Tokenizer\n",
        "from tensorflow.python.saved_model.signature_def_utils_impl import predict_signature_def"
      ]
    },
    {
      "cell_type": "code",
      "execution_count": null,
      "metadata": {
        "colab": {
          "base_uri": "https://localhost:8080/",
          "height": 423,
          "referenced_widgets": [
            "f946c245dc234fa48aa4766e0778be78",
            "68aacf48a29547a3aebc58d5f9df6f66",
            "df8ace7754d94b9a8a5945799cd289f5",
            "b2ecc7f2d7bc443cb8b9b8d20fee9474",
            "4a3af1c864fc43f5a5fea7860391e410",
            "638fd8883a62434a8adfeaf1f82bc089",
            "73b977f452b84ca9930e18ee4da42e6b",
            "86387e80b4ec4bf09c22567e67ec1738",
            "61029662092041e4b79ce7d20aa8d863",
            "5b8b57f9445843c18714cba52018f9e0",
            "6fa19b66932843b38a5fe07f994640bf",
            "04361b8a4c0b4fdea31e096972f12c1f",
            "0ed8510588004c8081f0fcd82cb686cf",
            "68a06312662b42d6a76546acc3fe2e9d",
            "873059e48f624c299201507037dca9a2",
            "893ae63c1c5d4134b860bce47efebb5b",
            "2e78e7cec0404e5b816685687fa78de8",
            "242510d353234a508279f3863df92b32",
            "1874a0a7fe9e4774ae4d5ddb416de09c",
            "fa2d79822b6344adb058d491b89cfe07",
            "d14d6b071bd94e99bcc45730908b4a8b",
            "551cb3da6ef442d1a2861611c0c776c4",
            "5d3c2d871c8646908b8f0b90aee65f69",
            "1488b2cc859d455a824ca6b46af9bdf9",
            "9d2d7b2b81c74df287ff20babe4a1572",
            "a3b184c20f474237a5ee7667d80f1d71",
            "2c05bff00597451b9ea7eccdc30afa0a",
            "bc8f7dd912aa43c5ab41cc666aa012a3",
            "be6681c7d0074485ae8b2e817beecce6",
            "1dda055eba2a4508a7adf8f83d1c34e4",
            "a2b9288df1d943e08749cbb1837bc575",
            "5ee92981eefb4ece92097200f49b0802",
            "831ff16a90014f3683dce175ba9ddbdf",
            "29a6f7ff21654e48b44a751a5b09b10c",
            "aca0cec8bb7d49f8bb8de1fcb62d5ffa",
            "60485f41f60f418c8bac63e648bba36e",
            "402eed5ff9704e88b9c1411a1e182049",
            "173f23e30067455e9563767e1dad685c",
            "7c4693ed7e944bf5901312c1125c3bb9",
            "c90b6e7923054d6e98fcb181dc5f4a06",
            "0992d21927a84e16a1d904d320dbc869",
            "4c485f17113e48c9ba247cc433188f9e",
            "b282712aee9c49c39107137b50a14cc1",
            "7f65a6fb8ecc4ec2b3b8e7747ffdb6b3"
          ]
        },
        "id": "2UAurg81MjM_",
        "outputId": "ea95a320-ca2a-4558-b36e-9f3e7d0cde6e"
      },
      "outputs": [
        {
          "output_type": "display_data",
          "data": {
            "text/plain": [
              "Downloading:   0%|          | 0.00/0.99M [00:00<?, ?B/s]"
            ],
            "application/vnd.jupyter.widget-view+json": {
              "version_major": 2,
              "version_minor": 0,
              "model_id": "f946c245dc234fa48aa4766e0778be78"
            }
          },
          "metadata": {}
        },
        {
          "output_type": "display_data",
          "data": {
            "text/plain": [
              "Downloading:   0%|          | 0.00/446k [00:00<?, ?B/s]"
            ],
            "application/vnd.jupyter.widget-view+json": {
              "version_major": 2,
              "version_minor": 0,
              "model_id": "04361b8a4c0b4fdea31e096972f12c1f"
            }
          },
          "metadata": {}
        },
        {
          "output_type": "display_data",
          "data": {
            "text/plain": [
              "Downloading:   0%|          | 0.00/666 [00:00<?, ?B/s]"
            ],
            "application/vnd.jupyter.widget-view+json": {
              "version_major": 2,
              "version_minor": 0,
              "model_id": "5d3c2d871c8646908b8f0b90aee65f69"
            }
          },
          "metadata": {}
        },
        {
          "output_type": "display_data",
          "data": {
            "text/plain": [
              "Downloading:   0%|          | 0.00/2.88G [00:00<?, ?B/s]"
            ],
            "application/vnd.jupyter.widget-view+json": {
              "version_major": 2,
              "version_minor": 0,
              "model_id": "29a6f7ff21654e48b44a751a5b09b10c"
            }
          },
          "metadata": {}
        },
        {
          "output_type": "stream",
          "name": "stderr",
          "text": [
            "All model checkpoint layers were used when initializing TFGPT2LMHeadModel.\n",
            "\n",
            "All the layers of TFGPT2LMHeadModel were initialized from the model checkpoint at gpt2-large.\n",
            "If your task is similar to the task the model of the checkpoint was trained on, you can already use TFGPT2LMHeadModel for predictions without further training.\n"
          ]
        },
        {
          "output_type": "stream",
          "name": "stdout",
          "text": [
            "Model: \"tfgpt2lm_head_model\"\n",
            "_________________________________________________________________\n",
            " Layer (type)                Output Shape              Param #   \n",
            "=================================================================\n",
            " transformer (TFGPT2MainLaye  multiple                 774030080 \n",
            " r)                                                              \n",
            "                                                                 \n",
            "=================================================================\n",
            "Total params: 774,030,080\n",
            "Trainable params: 774,030,080\n",
            "Non-trainable params: 0\n",
            "_________________________________________________________________\n"
          ]
        }
      ],
      "source": [
        "#get large GPT2 tokenizer and GPT2 model\n",
        "tokenizer3 = GPT2Tokenizer.from_pretrained('gpt2-large')\n",
        "#raw_input = tf.keras.Input(shape=(1,), dtype=tf.string)\n",
        " \n",
        "model3 = TFGPT2LMHeadModel.from_pretrained('gpt2-large' ,pad_token_id = tokenizer3.eos_token_id)\n",
        "\n",
        "#view model parameters\n",
        "model3.summary()"
      ]
    },
    {
      "cell_type": "code",
      "execution_count": null,
      "metadata": {
        "id": "vA0q7u5LVv6_"
      },
      "outputs": [],
      "source": [
        "#for reproducability\n",
        "SEED = 34\n",
        "#maximum number of words in output text\n",
        "MAX_LEN = 50\n",
        "\n",
        "prompt1 = 'scientist discovered a herd of unicorns living in a remote island spoke perfect English.'\n",
        "\n",
        "input_ids = tokenizer3.encode(prompt1, return_tensors='tf')"
      ]
    },
    {
      "cell_type": "code",
      "execution_count": null,
      "metadata": {
        "id": "tjBB9_8RUFXL",
        "colab": {
          "base_uri": "https://localhost:8080/"
        },
        "outputId": "1b04c11b-8a2f-449b-b30e-b427659cfe84"
      },
      "outputs": [
        {
          "output_type": "stream",
          "name": "stdout",
          "text": [
            "Output:\n",
            "----------------------------------------------------------------------------------------------------\n",
            "0: scientist discovered a herd of unicorns living in a remote spoke perfect English.\n",
            "\n",
            "But, it was just one of many bizarre tales that took place over the course of a recent three-year investigation into the nature of life on Earth, and the people who inhabit it.\n",
            "\n",
            "The study, by Dr. Alan Cooper of the University of California, Riverside, the National Geographic Society, and the University of Florida, investigated the origin of the \"unicorns\" found in the Arizona desert....\n",
            "\n",
            "\n",
            "Run time: 51.62245297431946\n"
          ]
        }
      ],
      "source": [
        "gpt_start = time.time()\n",
        "sample_outputs = model3.generate(\n",
        "                              input_ids,\n",
        "                              do_sample = True, \n",
        "                              max_length = 2*MAX_LEN,#to test how long we can generate and it be coherent\n",
        "                              #temperature = .7,\n",
        "                              top_k = 50, \n",
        "                              top_p = 0.85, \n",
        "                              num_return_sequences = 1\n",
        ")\n",
        "#model3 = tf.keras.Model(raw_input, predictions)\n",
        "print(\"Output:\\n\" + 100 * '-')\n",
        "for i, sample_output in enumerate(sample_outputs):\n",
        "    print(\"{}: {}...\".format(i, tokenizer3.decode(sample_output, skip_special_tokens = True)))\n",
        "    print('')\n",
        "gpt_end = time.time()\n",
        "global gpt_time\n",
        "gpt_time = gpt_end-gpt_start\n",
        "print('\\nRun time:', gpt_time)"
      ]
    },
    {
      "cell_type": "code",
      "source": [
        "print(sample_outputs)"
      ],
      "metadata": {
        "colab": {
          "base_uri": "https://localhost:8080/"
        },
        "id": "znhUpAFMJt05",
        "outputId": "9a34fd75-f0ae-45b9-d9d6-b9ea51dff195"
      },
      "execution_count": null,
      "outputs": [
        {
          "output_type": "stream",
          "name": "stdout",
          "text": [
            "tf.Tensor(\n",
            "[[25346   396  5071   257 27638   286 28000 19942  2877   287   257  6569\n",
            "   5158  2818  3594    13   198   198  1537    11   340   373   655   530\n",
            "    286   867 13699 19490   326  1718  1295   625   262  1781   286   257\n",
            "   2274  1115    12  1941  3645   656   262  3450   286  1204   319  3668\n",
            "     11   290   262   661   508 14527   340    13   198   198   464  2050\n",
            "     11   416  1583    13 12246 10382   286   262  2059   286  3442    11\n",
            "  35597    11   262  2351 33636  7023    11   290   262  2059   286  4744\n",
            "     11 12565   262  8159   286   262   366 46903 19942     1  1043   287\n",
            "    262  7943 10326    13]], shape=(1, 100), dtype=int32)\n"
          ]
        }
      ]
    },
    {
      "cell_type": "markdown",
      "metadata": {
        "id": "yf_nLSnrYHfw"
      },
      "source": [
        "## Comparing Speed of different models"
      ]
    },
    {
      "cell_type": "code",
      "execution_count": null,
      "metadata": {
        "id": "r10BpMdVUYKS",
        "colab": {
          "base_uri": "https://localhost:8080/"
        },
        "outputId": "9fb2e91f-88df-4d91-9bdc-5ca69e2289c2"
      },
      "outputs": [
        {
          "output_type": "display_data",
          "data": {
            "text/plain": [
              "<Figure size 720x432 with 1 Axes>"
            ],
            "image/png": "[encoded data removed]"
          },
          "metadata": {
            "needs_background": "light"
          }
        }
      ],
      "source": [
        "time_data = {'LSTM': lstm_time, 'RNN':rnn_time, 'GPT2':gpt_time}\n",
        "\n",
        "model_time = list(time_data.keys())\n",
        "times = list(time_data.values())\n",
        "\n",
        "fig = plt.figure(figsize = (10, 6))\n",
        "splot = sns.barplot(x=model_time,y= times)\n",
        "for p in splot.patches:\n",
        "    splot.annotate(format(p.get_height(), '.1f'), \n",
        "                   (p.get_x() + p.get_width() / 2., p.get_height()), \n",
        "                   ha = 'center', va = 'center', \n",
        "                   xytext = (0, 9), \n",
        "                   textcoords = 'offset points')\n",
        "\n",
        "\n",
        "plt.xlabel(\"Models\")\n",
        "plt.ylabel(\"Run times\")\n",
        "plt.title(\"Comparison of Run times of different models\")\n",
        "plt.show()"
      ]
    },
    {
      "cell_type": "markdown",
      "metadata": {
        "id": "tWPb5IU_Ywon"
      },
      "source": [
        "## Comparison of performances of different models"
      ]
    },
    {
      "cell_type": "code",
      "execution_count": null,
      "metadata": {
        "id": "WTWDK-TnYZ8i",
        "colab": {
          "base_uri": "https://localhost:8080/"
        },
        "outputId": "4841781c-db82-40a1-e323-32bf198279d7"
      },
      "outputs": [
        {
          "output_type": "display_data",
          "data": {
            "text/plain": [
              "<Figure size 576x576 with 2 Axes>"
            ],
            "image/png": "[encoded data removed]"
          },
          "metadata": {
            "needs_background": "light"
          }
        }
      ],
      "source": [
        "plt.figure(figsize=(8, 8))\n",
        "\n",
        " \n",
        "plt.subplot(2, 1, 1)\n",
        "plt.plot(history.history['accuracy'])\n",
        "plt.plot(history1.history['accuracy'])\n",
        "plt.title('Accuracy Comparison')\n",
        "plt.ylabel('Accuracy')\n",
        "plt.xlabel('Epoch')\n",
        "plt.legend(['LSTM', 'RNN'], loc='upper left')\n",
        "\n",
        "plt.subplot(2, 1, 2)\n",
        "plt.plot(history.history['loss'])\n",
        "plt.plot(history1.history['loss'])\n",
        "plt.title('Loss Comparison')\n",
        "plt.ylabel('Loss')\n",
        "plt.xlabel('Epoch')\n",
        "plt.legend(['LSTM', 'RNN'], loc='upper left')\n",
        "plt.tight_layout()\n",
        "plt.show()\n"
      ]
    },
    {
      "cell_type": "markdown",
      "metadata": {
        "id": "ed5DkIj_SX6x"
      },
      "source": [
        "## Comparison of Human Readability"
      ]
    },
    {
      "cell_type": "markdown",
      "source": [
        "![picture](https://drive.google.com/uc?id=1cEOzZg5xsAyhm3I0GFEJYHOamvdxYjke)"
      ],
      "metadata": {
        "id": "HpyPjLStMaqK"
      }
    },
    {
      "cell_type": "markdown",
      "metadata": {
        "id": "28tIKoHevbNB"
      },
      "source": [
        "## Saving Model"
      ]
    },
    {
      "cell_type": "code",
      "source": [
        "import os\n",
        "import tempfile\n",
        "# Fetch the Keras session and save the model\n",
        "# The signature definition is defined by the input and output tensors,\n",
        "# and stored with the default serving key\n",
        "Version = 1\n",
        "dir = tempfile.gettempdir()"
      ],
      "metadata": {
        "id": "oDOVQYmkOb2f"
      },
      "execution_count": null,
      "outputs": []
    },
    {
      "cell_type": "code",
      "source": [
        "export_path = os.path.join(dir,str(Version))"
      ],
      "metadata": {
        "id": "nnVjiXoLERM2"
      },
      "execution_count": null,
      "outputs": []
    },
    {
      "cell_type": "code",
      "source": [
        "tf.keras.models.save_model(\n",
        "    model3,\n",
        "    export_path,\n",
        "    overwrite=True,\n",
        "    include_optimizer=True,\n",
        ")"
      ],
      "metadata": {
        "colab": {
          "base_uri": "https://localhost:8080/"
        },
        "id": "IAOovbLvETDs",
        "outputId": "26225aa6-95fa-4a90-bfe4-3f8236d80284"
      },
      "execution_count": null,
      "outputs": [
        {
          "output_type": "stream",
          "name": "stderr",
          "text": [
            "WARNING:absl:Found untraced functions such as wte_layer_call_fn, wte_layer_call_and_return_conditional_losses, dropout_layer_call_fn, dropout_layer_call_and_return_conditional_losses, ln_f_layer_call_fn while saving (showing 5 of 870). These functions will not be directly callable after loading.\n"
          ]
        },
        {
          "output_type": "stream",
          "name": "stdout",
          "text": [
            "INFO:tensorflow:Assets written to: /tmp/1/assets\n"
          ]
        },
        {
          "output_type": "stream",
          "name": "stderr",
          "text": [
            "INFO:tensorflow:Assets written to: /tmp/1/assets\n"
          ]
        }
      ]
    },
    {
      "cell_type": "code",
      "source": [
        "print('\\nSaved model:')\n",
        "!ls -l {export_path}"
      ],
      "metadata": {
        "colab": {
          "base_uri": "https://localhost:8080/"
        },
        "id": "xU1vw3LBEU0F",
        "outputId": "07572c32-74fc-4dee-f708-5d7793d42db0"
      },
      "execution_count": null,
      "outputs": [
        {
          "output_type": "stream",
          "name": "stdout",
          "text": [
            "\n",
            "Saved model:\n",
            "total 12784\n",
            "drwxr-xr-x 2 root root     4096 Mar 22 07:25 assets\n",
            "-rw-r--r-- 1 root root   204830 Mar 22 07:26 keras_metadata.pb\n",
            "-rw-r--r-- 1 root root 12869983 Mar 22 07:26 saved_model.pb\n",
            "drwxr-xr-x 2 root root     4096 Mar 22 07:25 variables\n"
          ]
        }
      ]
    },
    {
      "cell_type": "markdown",
      "source": [
        "## Examining the saved model"
      ],
      "metadata": {
        "id": "oRzD9YzlPHHU"
      }
    },
    {
      "cell_type": "code",
      "source": [
        "#saved model detail\n",
        "!saved_model_cli show --dir {export_path} --all "
      ],
      "metadata": {
        "colab": {
          "base_uri": "https://localhost:8080/"
        },
        "id": "lT91iFw9EXvA",
        "outputId": "6239641f-b940-40dc-f717-72f926b41273"
      },
      "execution_count": null,
      "outputs": [
        {
          "output_type": "stream",
          "name": "stdout",
          "text": [
            "\n",
            "MetaGraphDef with tag-set: 'serve' contains the following SignatureDefs:\n",
            "\n",
            "signature_def['__saved_model_init_op']:\n",
            "  The given SavedModel SignatureDef contains the following input(s):\n",
            "  The given SavedModel SignatureDef contains the following output(s):\n",
            "    outputs['__saved_model_init_op'] tensor_info:\n",
            "        dtype: DT_INVALID\n",
            "        shape: unknown_rank\n",
            "        name: NoOp\n",
            "  Method name is: \n",
            "\n",
            "signature_def['serving_default']:\n",
            "  The given SavedModel SignatureDef contains the following input(s):\n",
            "    inputs['input_ids'] tensor_info:\n",
            "        dtype: DT_INT32\n",
            "        shape: (-1, 5)\n",
            "        name: serving_default_input_ids:0\n",
            "  The given SavedModel SignatureDef contains the following output(s):\n",
            "    outputs['logits'] tensor_info:\n",
            "        dtype: DT_FLOAT\n",
            "        shape: (-1, 5, 50257)\n",
            "        name: StatefulPartitionedCall:0\n",
            "    outputs['past_key_values_1'] tensor_info:\n",
            "        dtype: DT_FLOAT\n",
            "        shape: (2, -1, 20, 5, 64)\n",
            "        name: StatefulPartitionedCall:1\n",
            "    outputs['past_key_values_10'] tensor_info:\n",
            "        dtype: DT_FLOAT\n",
            "        shape: (2, -1, 20, 5, 64)\n",
            "        name: StatefulPartitionedCall:2\n",
            "    outputs['past_key_values_11'] tensor_info:\n",
            "        dtype: DT_FLOAT\n",
            "        shape: (2, -1, 20, 5, 64)\n",
            "        name: StatefulPartitionedCall:3\n",
            "    outputs['past_key_values_12'] tensor_info:\n",
            "        dtype: DT_FLOAT\n",
            "        shape: (2, -1, 20, 5, 64)\n",
            "        name: StatefulPartitionedCall:4\n",
            "    outputs['past_key_values_13'] tensor_info:\n",
            "        dtype: DT_FLOAT\n",
            "        shape: (2, -1, 20, 5, 64)\n",
            "        name: StatefulPartitionedCall:5\n",
            "    outputs['past_key_values_14'] tensor_info:\n",
            "        dtype: DT_FLOAT\n",
            "        shape: (2, -1, 20, 5, 64)\n",
            "        name: StatefulPartitionedCall:6\n",
            "    outputs['past_key_values_15'] tensor_info:\n",
            "        dtype: DT_FLOAT\n",
            "        shape: (2, -1, 20, 5, 64)\n",
            "        name: StatefulPartitionedCall:7\n",
            "    outputs['past_key_values_16'] tensor_info:\n",
            "        dtype: DT_FLOAT\n",
            "        shape: (2, -1, 20, 5, 64)\n",
            "        name: StatefulPartitionedCall:8\n",
            "    outputs['past_key_values_17'] tensor_info:\n",
            "        dtype: DT_FLOAT\n",
            "        shape: (2, -1, 20, 5, 64)\n",
            "        name: StatefulPartitionedCall:9\n",
            "    outputs['past_key_values_18'] tensor_info:\n",
            "        dtype: DT_FLOAT\n",
            "        shape: (2, -1, 20, 5, 64)\n",
            "        name: StatefulPartitionedCall:10\n",
            "    outputs['past_key_values_19'] tensor_info:\n",
            "        dtype: DT_FLOAT\n",
            "        shape: (2, -1, 20, 5, 64)\n",
            "        name: StatefulPartitionedCall:11\n",
            "    outputs['past_key_values_2'] tensor_info:\n",
            "        dtype: DT_FLOAT\n",
            "        shape: (2, -1, 20, 5, 64)\n",
            "        name: StatefulPartitionedCall:12\n",
            "    outputs['past_key_values_20'] tensor_info:\n",
            "        dtype: DT_FLOAT\n",
            "        shape: (2, -1, 20, 5, 64)\n",
            "        name: StatefulPartitionedCall:13\n",
            "    outputs['past_key_values_21'] tensor_info:\n",
            "        dtype: DT_FLOAT\n",
            "        shape: (2, -1, 20, 5, 64)\n",
            "        name: StatefulPartitionedCall:14\n",
            "    outputs['past_key_values_22'] tensor_info:\n",
            "        dtype: DT_FLOAT\n",
            "        shape: (2, -1, 20, 5, 64)\n",
            "        name: StatefulPartitionedCall:15\n",
            "    outputs['past_key_values_23'] tensor_info:\n",
            "        dtype: DT_FLOAT\n",
            "        shape: (2, -1, 20, 5, 64)\n",
            "        name: StatefulPartitionedCall:16\n",
            "    outputs['past_key_values_24'] tensor_info:\n",
            "        dtype: DT_FLOAT\n",
            "        shape: (2, -1, 20, 5, 64)\n",
            "        name: StatefulPartitionedCall:17\n",
            "    outputs['past_key_values_25'] tensor_info:\n",
            "        dtype: DT_FLOAT\n",
            "        shape: (2, -1, 20, 5, 64)\n",
            "        name: StatefulPartitionedCall:18\n",
            "    outputs['past_key_values_26'] tensor_info:\n",
            "        dtype: DT_FLOAT\n",
            "        shape: (2, -1, 20, 5, 64)\n",
            "        name: StatefulPartitionedCall:19\n",
            "    outputs['past_key_values_27'] tensor_info:\n",
            "        dtype: DT_FLOAT\n",
            "        shape: (2, -1, 20, 5, 64)\n",
            "        name: StatefulPartitionedCall:20\n",
            "    outputs['past_key_values_28'] tensor_info:\n",
            "        dtype: DT_FLOAT\n",
            "        shape: (2, -1, 20, 5, 64)\n",
            "        name: StatefulPartitionedCall:21\n",
            "    outputs['past_key_values_29'] tensor_info:\n",
            "        dtype: DT_FLOAT\n",
            "        shape: (2, -1, 20, 5, 64)\n",
            "        name: StatefulPartitionedCall:22\n",
            "    outputs['past_key_values_3'] tensor_info:\n",
            "        dtype: DT_FLOAT\n",
            "        shape: (2, -1, 20, 5, 64)\n",
            "        name: StatefulPartitionedCall:23\n",
            "    outputs['past_key_values_30'] tensor_info:\n",
            "        dtype: DT_FLOAT\n",
            "        shape: (2, -1, 20, 5, 64)\n",
            "        name: StatefulPartitionedCall:24\n",
            "    outputs['past_key_values_31'] tensor_info:\n",
            "        dtype: DT_FLOAT\n",
            "        shape: (2, -1, 20, 5, 64)\n",
            "        name: StatefulPartitionedCall:25\n",
            "    outputs['past_key_values_32'] tensor_info:\n",
            "        dtype: DT_FLOAT\n",
            "        shape: (2, -1, 20, 5, 64)\n",
            "        name: StatefulPartitionedCall:26\n",
            "    outputs['past_key_values_33'] tensor_info:\n",
            "        dtype: DT_FLOAT\n",
            "        shape: (2, -1, 20, 5, 64)\n",
            "        name: StatefulPartitionedCall:27\n",
            "    outputs['past_key_values_34'] tensor_info:\n",
            "        dtype: DT_FLOAT\n",
            "        shape: (2, -1, 20, 5, 64)\n",
            "        name: StatefulPartitionedCall:28\n",
            "    outputs['past_key_values_35'] tensor_info:\n",
            "        dtype: DT_FLOAT\n",
            "        shape: (2, -1, 20, 5, 64)\n",
            "        name: StatefulPartitionedCall:29\n",
            "    outputs['past_key_values_36'] tensor_info:\n",
            "        dtype: DT_FLOAT\n",
            "        shape: (2, -1, 20, 5, 64)\n",
            "        name: StatefulPartitionedCall:30\n",
            "    outputs['past_key_values_4'] tensor_info:\n",
            "        dtype: DT_FLOAT\n",
            "        shape: (2, -1, 20, 5, 64)\n",
            "        name: StatefulPartitionedCall:31\n",
            "    outputs['past_key_values_5'] tensor_info:\n",
            "        dtype: DT_FLOAT\n",
            "        shape: (2, -1, 20, 5, 64)\n",
            "        name: StatefulPartitionedCall:32\n",
            "    outputs['past_key_values_6'] tensor_info:\n",
            "        dtype: DT_FLOAT\n",
            "        shape: (2, -1, 20, 5, 64)\n",
            "        name: StatefulPartitionedCall:33\n",
            "    outputs['past_key_values_7'] tensor_info:\n",
            "        dtype: DT_FLOAT\n",
            "        shape: (2, -1, 20, 5, 64)\n",
            "        name: StatefulPartitionedCall:34\n",
            "    outputs['past_key_values_8'] tensor_info:\n",
            "        dtype: DT_FLOAT\n",
            "        shape: (2, -1, 20, 5, 64)\n",
            "        name: StatefulPartitionedCall:35\n",
            "    outputs['past_key_values_9'] tensor_info:\n",
            "        dtype: DT_FLOAT\n",
            "        shape: (2, -1, 20, 5, 64)\n",
            "        name: StatefulPartitionedCall:36\n",
            "  Method name is: tensorflow/serving/predict\n",
            "\n",
            "Concrete Functions:\n",
            "  Function Name: '__call__'\n",
            "    Option #1\n",
            "      Callable with:\n",
            "        Argument #1\n",
            "          DType: dict\n",
            "          Value: {'input_ids': TensorSpec(shape=(None, 5), dtype=tf.int32, name='input_ids/input_ids'), \b\b}\n",
            "        Argument #2\n",
            "          DType: NoneType\n",
            "          Value: None\n",
            "        Argument #3\n",
            "          DType: NoneType\n",
            "          Value: None\n",
            "        Argument #4\n",
            "          DType: NoneType\n",
            "          Value: None\n",
            "        Argument #5\n",
            "          DType: NoneType\n",
            "          Value: None\n",
            "        Argument #6\n",
            "          DType: NoneType\n",
            "          Value: None\n",
            "        Argument #7\n",
            "          DType: NoneType\n",
            "          Value: None\n",
            "        Argument #8\n",
            "          DType: NoneType\n",
            "          Value: None\n",
            "        Argument #9\n",
            "          DType: NoneType\n",
            "          Value: None\n",
            "        Argument #10\n",
            "          DType: NoneType\n",
            "          Value: None\n",
            "        Argument #11\n",
            "          DType: NoneType\n",
            "          Value: None\n",
            "        Argument #12\n",
            "          DType: NoneType\n",
            "          Value: None\n",
            "        Argument #13\n",
            "          DType: NoneType\n",
            "          Value: None\n",
            "        Argument #14\n",
            "          DType: NoneType\n",
            "          Value: None\n",
            "        Argument #15\n",
            "          DType: bool\n",
            "          Value: False\n",
            "    Option #2\n",
            "      Callable with:\n",
            "        Argument #1\n",
            "          DType: dict\n",
            "          Value: {'input_ids': TensorSpec(shape=(None, 5), dtype=tf.int32, name='input_ids/input_ids'), \b\b}\n",
            "        Argument #2\n",
            "          DType: NoneType\n",
            "          Value: None\n",
            "        Argument #3\n",
            "          DType: NoneType\n",
            "          Value: None\n",
            "        Argument #4\n",
            "          DType: NoneType\n",
            "          Value: None\n",
            "        Argument #5\n",
            "          DType: NoneType\n",
            "          Value: None\n",
            "        Argument #6\n",
            "          DType: NoneType\n",
            "          Value: None\n",
            "        Argument #7\n",
            "          DType: NoneType\n",
            "          Value: None\n",
            "        Argument #8\n",
            "          DType: NoneType\n",
            "          Value: None\n",
            "        Argument #9\n",
            "          DType: NoneType\n",
            "          Value: None\n",
            "        Argument #10\n",
            "          DType: NoneType\n",
            "          Value: None\n",
            "        Argument #11\n",
            "          DType: NoneType\n",
            "          Value: None\n",
            "        Argument #12\n",
            "          DType: NoneType\n",
            "          Value: None\n",
            "        Argument #13\n",
            "          DType: NoneType\n",
            "          Value: None\n",
            "        Argument #14\n",
            "          DType: NoneType\n",
            "          Value: None\n",
            "        Argument #15\n",
            "          DType: bool\n",
            "          Value: True\n",
            "\n",
            "  Function Name: '_default_save_signature'\n",
            "    Option #1\n",
            "      Callable with:\n",
            "        Argument #1\n",
            "          DType: dict\n",
            "          Value: {'input_ids': TensorSpec(shape=(None, 5), dtype=tf.int32, name='input_ids'), \b\b}\n",
            "\n",
            "  Function Name: 'call_and_return_all_conditional_losses'\n",
            "    Option #1\n",
            "      Callable with:\n",
            "        Argument #1\n",
            "          DType: dict\n",
            "          Value: {'input_ids': TensorSpec(shape=(None, 5), dtype=tf.int32, name='input_ids/input_ids'), \b\b}\n",
            "        Argument #2\n",
            "          DType: NoneType\n",
            "          Value: None\n",
            "        Argument #3\n",
            "          DType: NoneType\n",
            "          Value: None\n",
            "        Argument #4\n",
            "          DType: NoneType\n",
            "          Value: None\n",
            "        Argument #5\n",
            "          DType: NoneType\n",
            "          Value: None\n",
            "        Argument #6\n",
            "          DType: NoneType\n",
            "          Value: None\n",
            "        Argument #7\n",
            "          DType: NoneType\n",
            "          Value: None\n",
            "        Argument #8\n",
            "          DType: NoneType\n",
            "          Value: None\n",
            "        Argument #9\n",
            "          DType: NoneType\n",
            "          Value: None\n",
            "        Argument #10\n",
            "          DType: NoneType\n",
            "          Value: None\n",
            "        Argument #11\n",
            "          DType: NoneType\n",
            "          Value: None\n",
            "        Argument #12\n",
            "          DType: NoneType\n",
            "          Value: None\n",
            "        Argument #13\n",
            "          DType: NoneType\n",
            "          Value: None\n",
            "        Argument #14\n",
            "          DType: NoneType\n",
            "          Value: None\n",
            "        Argument #15\n",
            "          DType: bool\n",
            "          Value: False\n",
            "    Option #2\n",
            "      Callable with:\n",
            "        Argument #1\n",
            "          DType: dict\n",
            "          Value: {'input_ids': TensorSpec(shape=(None, 5), dtype=tf.int32, name='input_ids/input_ids'), \b\b}\n",
            "        Argument #2\n",
            "          DType: NoneType\n",
            "          Value: None\n",
            "        Argument #3\n",
            "          DType: NoneType\n",
            "          Value: None\n",
            "        Argument #4\n",
            "          DType: NoneType\n",
            "          Value: None\n",
            "        Argument #5\n",
            "          DType: NoneType\n",
            "          Value: None\n",
            "        Argument #6\n",
            "          DType: NoneType\n",
            "          Value: None\n",
            "        Argument #7\n",
            "          DType: NoneType\n",
            "          Value: None\n",
            "        Argument #8\n",
            "          DType: NoneType\n",
            "          Value: None\n",
            "        Argument #9\n",
            "          DType: NoneType\n",
            "          Value: None\n",
            "        Argument #10\n",
            "          DType: NoneType\n",
            "          Value: None\n",
            "        Argument #11\n",
            "          DType: NoneType\n",
            "          Value: None\n",
            "        Argument #12\n",
            "          DType: NoneType\n",
            "          Value: None\n",
            "        Argument #13\n",
            "          DType: NoneType\n",
            "          Value: None\n",
            "        Argument #14\n",
            "          DType: NoneType\n",
            "          Value: None\n",
            "        Argument #15\n",
            "          DType: bool\n",
            "          Value: True\n",
            "\n",
            "  Function Name: 'serving'\n",
            "    Option #1\n",
            "      Callable with:\n",
            "        Argument #1\n",
            "          DType: dict\n",
            "          Value: {'attention_mask': TensorSpec(shape=(None, None), dtype=tf.int32, name='attention_mask'), 'input_ids': TensorSpec(shape=(None, None), dtype=tf.int32, name='input_ids'), \b\b}\n"
          ]
        }
      ]
    },
    {
      "cell_type": "markdown",
      "source": [
        "## Serving the model with TF serving"
      ],
      "metadata": {
        "id": "71L3MamfPSHp"
      }
    },
    {
      "cell_type": "code",
      "source": [
        "# This is the same as you would do from your command line, but without the [arch=amd64], and no sudo\n",
        "# You would instead do:\n",
        "# echo \"deb [arch=amd64] http://storage.googleapis.com/tensorflow-serving-apt stable tensorflow-model-server tensorflow-model-server-universal\" | sudo tee /etc/apt/sources.list.d/tensorflow-serving.list && \\\n",
        "# curl https://storage.googleapis.com/tensorflow-serving-apt/tensorflow-serving.release.pub.gpg | sudo apt-key add -\n",
        "\n",
        "!echo \"deb http://storage.googleapis.com/tensorflow-serving-apt stable tensorflow-model-server tensorflow-model-server-universal\" | tee /etc/apt/sources.list.d/tensorflow-serving.list && \\\n",
        "curl https://storage.googleapis.com/tensorflow-serving-apt/tensorflow-serving.release.pub.gpg | apt-key add -\n",
        "!apt update"
      ],
      "metadata": {
        "colab": {
          "base_uri": "https://localhost:8080/"
        },
        "id": "jKNt_UkzEZgz",
        "outputId": "d7518495-9ac2-41db-8357-dcc24c9230bf"
      },
      "execution_count": null,
      "outputs": [
        {
          "output_type": "stream",
          "name": "stdout",
          "text": [
            "deb http://storage.googleapis.com/tensorflow-serving-apt stable tensorflow-model-server tensorflow-model-server-universal\n",
            "  % Total    % Received % Xferd  Average Speed   Time    Time     Time  Current\n",
            "                                 Dload  Upload   Total   Spent    Left  Speed\n",
            "100  2943  100  2943    0     0  41450      0 --:--:-- --:--:-- --:--:-- 40875\n",
            "OK\n",
            "Get:1 http://storage.googleapis.com/tensorflow-serving-apt stable InRelease [3,012 B]\n",
            "Hit:2 http://archive.ubuntu.com/ubuntu bionic InRelease\n",
            "Get:3 https://cloud.r-project.org/bin/linux/ubuntu bionic-cran40/ InRelease [3,626 B]\n",
            "Get:4 http://archive.ubuntu.com/ubuntu bionic-updates InRelease [88.7 kB]\n",
            "Get:5 http://security.ubuntu.com/ubuntu bionic-security InRelease [88.7 kB]\n",
            "Get:6 http://ppa.launchpad.net/c2d4u.team/c2d4u4.0+/ubuntu bionic InRelease [15.9 kB]\n",
            "Get:7 http://storage.googleapis.com/tensorflow-serving-apt stable/tensorflow-model-server-universal amd64 Packages [349 B]\n",
            "Get:8 http://archive.ubuntu.com/ubuntu bionic-backports InRelease [74.6 kB]\n",
            "Get:9 http://storage.googleapis.com/tensorflow-serving-apt stable/tensorflow-model-server amd64 Packages [341 B]\n",
            "Ign:10 https://developer.download.nvidia.com/compute/cuda/repos/ubuntu1804/x86_64  InRelease\n",
            "Ign:11 https://developer.download.nvidia.com/compute/machine-learning/repos/ubuntu1804/x86_64  InRelease\n",
            "Get:12 https://developer.download.nvidia.com/compute/cuda/repos/ubuntu1804/x86_64  Release [696 B]\n",
            "Hit:13 https://developer.download.nvidia.com/compute/machine-learning/repos/ubuntu1804/x86_64  Release\n",
            "Get:14 https://developer.download.nvidia.com/compute/cuda/repos/ubuntu1804/x86_64  Release.gpg [836 B]\n",
            "Hit:15 http://ppa.launchpad.net/cran/libgit2/ubuntu bionic InRelease\n",
            "Get:16 https://cloud.r-project.org/bin/linux/ubuntu bionic-cran40/ Packages [80.4 kB]\n",
            "Get:17 http://ppa.launchpad.net/deadsnakes/ppa/ubuntu bionic InRelease [15.9 kB]\n",
            "Get:18 http://archive.ubuntu.com/ubuntu bionic-updates/restricted amd64 Packages [891 kB]\n",
            "Get:19 http://archive.ubuntu.com/ubuntu bionic-updates/universe amd64 Packages [2,261 kB]\n",
            "Hit:20 http://ppa.launchpad.net/graphics-drivers/ppa/ubuntu bionic InRelease\n",
            "Get:21 http://archive.ubuntu.com/ubuntu bionic-updates/multiverse amd64 Packages [29.9 kB]\n",
            "Get:22 http://archive.ubuntu.com/ubuntu bionic-updates/main amd64 Packages [3,092 kB]\n",
            "Get:23 http://security.ubuntu.com/ubuntu bionic-security/main amd64 Packages [2,628 kB]\n",
            "Get:24 http://security.ubuntu.com/ubuntu bionic-security/universe amd64 Packages [1,479 kB]\n",
            "Get:25 http://security.ubuntu.com/ubuntu bionic-security/restricted amd64 Packages [833 kB]\n",
            "Get:26 http://ppa.launchpad.net/c2d4u.team/c2d4u4.0+/ubuntu bionic/main Sources [1,829 kB]\n",
            "Get:28 https://developer.download.nvidia.com/compute/cuda/repos/ubuntu1804/x86_64  Packages [933 kB]\n",
            "Get:29 http://ppa.launchpad.net/c2d4u.team/c2d4u4.0+/ubuntu bionic/main amd64 Packages [937 kB]\n",
            "Get:30 http://ppa.launchpad.net/deadsnakes/ppa/ubuntu bionic/main amd64 Packages [45.2 kB]\n",
            "Fetched 15.3 MB in 4s (3,588 kB/s)\n",
            "Reading package lists... Done\n",
            "Building dependency tree       \n",
            "Reading state information... Done\n",
            "69 packages can be upgraded. Run 'apt list --upgradable' to see them.\n"
          ]
        }
      ]
    },
    {
      "cell_type": "markdown",
      "source": [
        "## Install TF serving"
      ],
      "metadata": {
        "id": "KRFQu3lIPZio"
      }
    },
    {
      "cell_type": "code",
      "source": [
        "!apt-get install tensorflow-model-server"
      ],
      "metadata": {
        "colab": {
          "base_uri": "https://localhost:8080/"
        },
        "id": "yHSbHtQHEcZ_",
        "outputId": "4db1071f-11ea-46b6-8da3-9cf51947d3cc"
      },
      "execution_count": null,
      "outputs": [
        {
          "output_type": "stream",
          "name": "stdout",
          "text": [
            "Reading package lists... Done\n",
            "Building dependency tree       \n",
            "Reading state information... Done\n",
            "The following NEW packages will be installed:\n",
            "  tensorflow-model-server\n",
            "0 upgraded, 1 newly installed, 0 to remove and 69 not upgraded.\n",
            "Need to get 340 MB of archives.\n",
            "After this operation, 0 B of additional disk space will be used.\n",
            "Get:1 http://storage.googleapis.com/tensorflow-serving-apt stable/tensorflow-model-server amd64 tensorflow-model-server all 2.8.0 [340 MB]\n",
            "Fetched 340 MB in 5s (69.9 MB/s)\n",
            "Selecting previously unselected package tensorflow-model-server.\n",
            "(Reading database ... 155335 files and directories currently installed.)\n",
            "Preparing to unpack .../tensorflow-model-server_2.8.0_all.deb ...\n",
            "Unpacking tensorflow-model-server (2.8.0) ...\n",
            "Setting up tensorflow-model-server (2.8.0) ...\n"
          ]
        }
      ]
    },
    {
      "cell_type": "markdown",
      "source": [
        "## Start running TF serving"
      ],
      "metadata": {
        "id": "kTBcy2cXPfWZ"
      }
    },
    {
      "cell_type": "code",
      "source": [
        "os.environ[\"dir\"] = dir"
      ],
      "metadata": {
        "id": "phiLGLd1EfEp"
      },
      "execution_count": null,
      "outputs": []
    },
    {
      "cell_type": "code",
      "source": [
        "%%bash --bg\n",
        "nohup tensorflow_model_server \\\n",
        "  --rest_api_port=8501 \\\n",
        "  --model_name=gpt2_model \\\n",
        "  --model_base_path=\"${dir}\" >server.log 2>&1"
      ],
      "metadata": {
        "colab": {
          "base_uri": "https://localhost:8080/"
        },
        "id": "08AKuj7ZEkEC",
        "outputId": "67b0c346-ba1f-4fcd-d4e7-8443f1623fac"
      },
      "execution_count": null,
      "outputs": [
        {
          "output_type": "stream",
          "name": "stdout",
          "text": [
            "Starting job # 2 in a separate thread.\n"
          ]
        }
      ]
    },
    {
      "cell_type": "code",
      "source": [
        "!tail server.log"
      ],
      "metadata": {
        "id": "x6HhBDQpEozo"
      },
      "execution_count": null,
      "outputs": []
    },
    {
      "cell_type": "markdown",
      "source": [
        "## Make a request to your model in TF Serving"
      ],
      "metadata": {
        "id": "z2PuONc7P1ne"
      }
    },
    {
      "cell_type": "code",
      "source": [
        "prompt2 = 'hello What is the best thing in your life?'\n",
        "input_ids1 = tokenizer3.encode(prompt2, return_tensors='tf')"
      ],
      "metadata": {
        "id": "k-sXlGQdEsL9"
      },
      "execution_count": null,
      "outputs": []
    },
    {
      "cell_type": "code",
      "source": [
        "def gpt2_m(input_ids):\n",
        "  input_ids = tokenizer3.encode(prompt2, return_tensors='tf')\n",
        "  sample_outputs = model3.generate(\n",
        "                              input_ids,\n",
        "                              do_sample = True, \n",
        "                              max_length = 2*MAX_LEN,#to test how long we can generate and it be coherent\n",
        "                              #temperature = .7,\n",
        "                              top_k = 50, \n",
        "                              top_p = 0.85, \n",
        "                              num_return_sequences = 1\n",
        "          )\n",
        "#model3 = tf.keras.Model(raw_input, predictions)\n",
        "  print(\"Output:\\n\" + 100 * '-')\n",
        "  for i, sample_output in enumerate(sample_outputs):\n",
        "    print(\"{}: {}...\".format(i, tokenizer3.decode(sample_output, skip_special_tokens = True)))\n",
        "    print('')\n"
      ],
      "metadata": {
        "id": "sfEGgFORM4Ad"
      },
      "execution_count": null,
      "outputs": []
    },
    {
      "cell_type": "code",
      "source": [
        "import json\n",
        "data = json.dumps({\"signature_name\": \"serving_default\", \"instances\": input_ids1.numpy().tolist()})\n",
        "print('Data: ',data)"
      ],
      "metadata": {
        "colab": {
          "base_uri": "https://localhost:8080/"
        },
        "id": "n7i_VKNkFseN",
        "outputId": "318b26fc-b24b-4ac7-e548-f44b232cde4a"
      },
      "execution_count": null,
      "outputs": [
        {
          "output_type": "stream",
          "name": "stdout",
          "text": [
            "Data:  {\"signature_name\": \"serving_default\", \"instances\": [[31373, 1867, 318, 262, 1266, 1517, 287, 534, 1204, 30]]}\n"
          ]
        }
      ]
    },
    {
      "cell_type": "markdown",
      "source": [
        "## Make REST requests"
      ],
      "metadata": {
        "id": "Mmv1ZLirP5ra"
      }
    },
    {
      "cell_type": "code",
      "source": [
        "# docs_infra: no_execute\n",
        "!pip install -q requests"
      ],
      "metadata": {
        "id": "-I8IRfsOFvTM"
      },
      "execution_count": null,
      "outputs": []
    },
    {
      "cell_type": "code",
      "source": [
        "import requests\n",
        "headers = {\"content-type\": \"application/json\"}\n",
        "json_response = requests.post('http://localhost:8501/v1/models/gpt2_model:predict', data=data, headers=headers)\n",
        "predictions = json.loads(json_response.text)['predictions']\n",
        "gpt2_m(predictions)"
      ],
      "metadata": {
        "colab": {
          "base_uri": "https://localhost:8080/"
        },
        "id": "S1qQKo5VFyXI",
        "outputId": "34b6e80d-7d18-4395-eccb-e75f9f2cf850"
      },
      "execution_count": null,
      "outputs": [
        {
          "output_type": "stream",
          "name": "stdout",
          "text": [
            "Output:\n",
            "----------------------------------------------------------------------------------------------------\n",
            "0: hello What is the best thing in your life?\n",
            "\n",
            "The best thing is always getting a job you love and being able to support a family.\n",
            "\n",
            "How do you feel about working in a job you hate?\n",
            "\n",
            "It's really hard to find something that you love that isn't miserable.\n",
            "\n",
            "What is your best advice for someone who wants to start a business?\n",
            "\n",
            "Start small and always go for something different.\n",
            "\n",
            "What is the first piece of advice you would give...\n",
            "\n"
          ]
        }
      ]
    },
    {
      "cell_type": "code",
      "source": [
        ""
      ],
      "metadata": {
        "id": "vNmZ7Q1tLXaQ"
      },
      "execution_count": null,
      "outputs": []
    }
  ],
  "metadata": {
    "accelerator": "GPU",
    "colab": {
      "name": "Bimalendu Mishra_Capstone_Text Generation.ipynb",
      "provenance": []
    },
    "kernelspec": {
      "display_name": "Python 3",
      "name": "python3"
    },
    "language_info": {
      "name": "python"
    },
    "widgets": {
      "application/vnd.jupyter.widget-state+json": {
        "f946c245dc234fa48aa4766e0778be78": {
          "model_module": "@jupyter-widgets/controls",
          "model_name": "HBoxModel",
          "model_module_version": "1.5.0",
          "state": {
            "_dom_classes": [],
            "_model_module": "@jupyter-widgets/controls",
            "_model_module_version": "1.5.0",
            "_model_name": "HBoxModel",
            "_view_count": null,
            "_view_module": "@jupyter-widgets/controls",
            "_view_module_version": "1.5.0",
            "_view_name": "HBoxView",
            "box_style": "",
            "children": [
              "IPY_MODEL_68aacf48a29547a3aebc58d5f9df6f66",
              "IPY_MODEL_df8ace7754d94b9a8a5945799cd289f5",
              "IPY_MODEL_b2ecc7f2d7bc443cb8b9b8d20fee9474"
            ],
            "layout": "IPY_MODEL_4a3af1c864fc43f5a5fea7860391e410"
          }
        },
        "68aacf48a29547a3aebc58d5f9df6f66": {
          "model_module": "@jupyter-widgets/controls",
          "model_name": "HTMLModel",
          "model_module_version": "1.5.0",
          "state": {
            "_dom_classes": [],
            "_model_module": "@jupyter-widgets/controls",
            "_model_module_version": "1.5.0",
            "_model_name": "HTMLModel",
            "_view_count": null,
            "_view_module": "@jupyter-widgets/controls",
            "_view_module_version": "1.5.0",
            "_view_name": "HTMLView",
            "description": "",
            "description_tooltip": null,
            "layout": "IPY_MODEL_638fd8883a62434a8adfeaf1f82bc089",
            "placeholder": "​",
            "style": "IPY_MODEL_73b977f452b84ca9930e18ee4da42e6b",
            "value": "Downloading: 100%"
          }
        },
        "df8ace7754d94b9a8a5945799cd289f5": {
          "model_module": "@jupyter-widgets/controls",
          "model_name": "FloatProgressModel",
          "model_module_version": "1.5.0",
          "state": {
            "_dom_classes": [],
            "_model_module": "@jupyter-widgets/controls",
            "_model_module_version": "1.5.0",
            "_model_name": "FloatProgressModel",
            "_view_count": null,
            "_view_module": "@jupyter-widgets/controls",
            "_view_module_version": "1.5.0",
            "_view_name": "ProgressView",
            "bar_style": "success",
            "description": "",
            "description_tooltip": null,
            "layout": "IPY_MODEL_86387e80b4ec4bf09c22567e67ec1738",
            "max": 1042301,
            "min": 0,
            "orientation": "horizontal",
            "style": "IPY_MODEL_61029662092041e4b79ce7d20aa8d863",
            "value": 1042301
          }
        },
        "b2ecc7f2d7bc443cb8b9b8d20fee9474": {
          "model_module": "@jupyter-widgets/controls",
          "model_name": "HTMLModel",
          "model_module_version": "1.5.0",
          "state": {
            "_dom_classes": [],
            "_model_module": "@jupyter-widgets/controls",
            "_model_module_version": "1.5.0",
            "_model_name": "HTMLModel",
            "_view_count": null,
            "_view_module": "@jupyter-widgets/controls",
            "_view_module_version": "1.5.0",
            "_view_name": "HTMLView",
            "description": "",
            "description_tooltip": null,
            "layout": "IPY_MODEL_5b8b57f9445843c18714cba52018f9e0",
            "placeholder": "​",
            "style": "IPY_MODEL_6fa19b66932843b38a5fe07f994640bf",
            "value": " 0.99M/0.99M [00:00&lt;00:00, 1.18MB/s]"
          }
        },
        "4a3af1c864fc43f5a5fea7860391e410": {
          "model_module": "@jupyter-widgets/base",
          "model_name": "LayoutModel",
          "model_module_version": "1.2.0",
          "state": {
            "_model_module": "@jupyter-widgets/base",
            "_model_module_version": "1.2.0",
            "_model_name": "LayoutModel",
            "_view_count": null,
            "_view_module": "@jupyter-widgets/base",
            "_view_module_version": "1.2.0",
            "_view_name": "LayoutView",
            "align_content": null,
            "align_items": null,
            "align_self": null,
            "border": null,
            "bottom": null,
            "display": null,
            "flex": null,
            "flex_flow": null,
            "grid_area": null,
            "grid_auto_columns": null,
            "grid_auto_flow": null,
            "grid_auto_rows": null,
            "grid_column": null,
            "grid_gap": null,
            "grid_row": null,
            "grid_template_areas": null,
            "grid_template_columns": null,
            "grid_template_rows": null,
            "height": null,
            "justify_content": null,
            "justify_items": null,
            "left": null,
            "margin": null,
            "max_height": null,
            "max_width": null,
            "min_height": null,
            "min_width": null,
            "object_fit": null,
            "object_position": null,
            "order": null,
            "overflow": null,
            "overflow_x": null,
            "overflow_y": null,
            "padding": null,
            "right": null,
            "top": null,
            "visibility": null,
            "width": null
          }
        },
        "638fd8883a62434a8adfeaf1f82bc089": {
          "model_module": "@jupyter-widgets/base",
          "model_name": "LayoutModel",
          "model_module_version": "1.2.0",
          "state": {
            "_model_module": "@jupyter-widgets/base",
            "_model_module_version": "1.2.0",
            "_model_name": "LayoutModel",
            "_view_count": null,
            "_view_module": "@jupyter-widgets/base",
            "_view_module_version": "1.2.0",
            "_view_name": "LayoutView",
            "align_content": null,
            "align_items": null,
            "align_self": null,
            "border": null,
            "bottom": null,
            "display": null,
            "flex": null,
            "flex_flow": null,
            "grid_area": null,
            "grid_auto_columns": null,
            "grid_auto_flow": null,
            "grid_auto_rows": null,
            "grid_column": null,
            "grid_gap": null,
            "grid_row": null,
            "grid_template_areas": null,
            "grid_template_columns": null,
            "grid_template_rows": null,
            "height": null,
            "justify_content": null,
            "justify_items": null,
            "left": null,
            "margin": null,
            "max_height": null,
            "max_width": null,
            "min_height": null,
            "min_width": null,
            "object_fit": null,
            "object_position": null,
            "order": null,
            "overflow": null,
            "overflow_x": null,
            "overflow_y": null,
            "padding": null,
            "right": null,
            "top": null,
            "visibility": null,
            "width": null
          }
        },
        "73b977f452b84ca9930e18ee4da42e6b": {
          "model_module": "@jupyter-widgets/controls",
          "model_name": "DescriptionStyleModel",
          "model_module_version": "1.5.0",
          "state": {
            "_model_module": "@jupyter-widgets/controls",
            "_model_module_version": "1.5.0",
            "_model_name": "DescriptionStyleModel",
            "_view_count": null,
            "_view_module": "@jupyter-widgets/base",
            "_view_module_version": "1.2.0",
            "_view_name": "StyleView",
            "description_width": ""
          }
        },
        "86387e80b4ec4bf09c22567e67ec1738": {
          "model_module": "@jupyter-widgets/base",
          "model_name": "LayoutModel",
          "model_module_version": "1.2.0",
          "state": {
            "_model_module": "@jupyter-widgets/base",
            "_model_module_version": "1.2.0",
            "_model_name": "LayoutModel",
            "_view_count": null,
            "_view_module": "@jupyter-widgets/base",
            "_view_module_version": "1.2.0",
            "_view_name": "LayoutView",
            "align_content": null,
            "align_items": null,
            "align_self": null,
            "border": null,
            "bottom": null,
            "display": null,
            "flex": null,
            "flex_flow": null,
            "grid_area": null,
            "grid_auto_columns": null,
            "grid_auto_flow": null,
            "grid_auto_rows": null,
            "grid_column": null,
            "grid_gap": null,
            "grid_row": null,
            "grid_template_areas": null,
            "grid_template_columns": null,
            "grid_template_rows": null,
            "height": null,
            "justify_content": null,
            "justify_items": null,
            "left": null,
            "margin": null,
            "max_height": null,
            "max_width": null,
            "min_height": null,
            "min_width": null,
            "object_fit": null,
            "object_position": null,
            "order": null,
            "overflow": null,
            "overflow_x": null,
            "overflow_y": null,
            "padding": null,
            "right": null,
            "top": null,
            "visibility": null,
            "width": null
          }
        },
        "61029662092041e4b79ce7d20aa8d863": {
          "model_module": "@jupyter-widgets/controls",
          "model_name": "ProgressStyleModel",
          "model_module_version": "1.5.0",
          "state": {
            "_model_module": "@jupyter-widgets/controls",
            "_model_module_version": "1.5.0",
            "_model_name": "ProgressStyleModel",
            "_view_count": null,
            "_view_module": "@jupyter-widgets/base",
            "_view_module_version": "1.2.0",
            "_view_name": "StyleView",
            "bar_color": null,
            "description_width": ""
          }
        },
        "5b8b57f9445843c18714cba52018f9e0": {
          "model_module": "@jupyter-widgets/base",
          "model_name": "LayoutModel",
          "model_module_version": "1.2.0",
          "state": {
            "_model_module": "@jupyter-widgets/base",
            "_model_module_version": "1.2.0",
            "_model_name": "LayoutModel",
            "_view_count": null,
            "_view_module": "@jupyter-widgets/base",
            "_view_module_version": "1.2.0",
            "_view_name": "LayoutView",
            "align_content": null,
            "align_items": null,
            "align_self": null,
            "border": null,
            "bottom": null,
            "display": null,
            "flex": null,
            "flex_flow": null,
            "grid_area": null,
            "grid_auto_columns": null,
            "grid_auto_flow": null,
            "grid_auto_rows": null,
            "grid_column": null,
            "grid_gap": null,
            "grid_row": null,
            "grid_template_areas": null,
            "grid_template_columns": null,
            "grid_template_rows": null,
            "height": null,
            "justify_content": null,
            "justify_items": null,
            "left": null,
            "margin": null,
            "max_height": null,
            "max_width": null,
            "min_height": null,
            "min_width": null,
            "object_fit": null,
            "object_position": null,
            "order": null,
            "overflow": null,
            "overflow_x": null,
            "overflow_y": null,
            "padding": null,
            "right": null,
            "top": null,
            "visibility": null,
            "width": null
          }
        },
        "6fa19b66932843b38a5fe07f994640bf": {
          "model_module": "@jupyter-widgets/controls",
          "model_name": "DescriptionStyleModel",
          "model_module_version": "1.5.0",
          "state": {
            "_model_module": "@jupyter-widgets/controls",
            "_model_module_version": "1.5.0",
            "_model_name": "DescriptionStyleModel",
            "_view_count": null,
            "_view_module": "@jupyter-widgets/base",
            "_view_module_version": "1.2.0",
            "_view_name": "StyleView",
            "description_width": ""
          }
        },
        "04361b8a4c0b4fdea31e096972f12c1f": {
          "model_module": "@jupyter-widgets/controls",
          "model_name": "HBoxModel",
          "model_module_version": "1.5.0",
          "state": {
            "_dom_classes": [],
            "_model_module": "@jupyter-widgets/controls",
            "_model_module_version": "1.5.0",
            "_model_name": "HBoxModel",
            "_view_count": null,
            "_view_module": "@jupyter-widgets/controls",
            "_view_module_version": "1.5.0",
            "_view_name": "HBoxView",
            "box_style": "",
            "children": [
              "IPY_MODEL_0ed8510588004c8081f0fcd82cb686cf",
              "IPY_MODEL_68a06312662b42d6a76546acc3fe2e9d",
              "IPY_MODEL_873059e48f624c299201507037dca9a2"
            ],
            "layout": "IPY_MODEL_893ae63c1c5d4134b860bce47efebb5b"
          }
        },
        "0ed8510588004c8081f0fcd82cb686cf": {
          "model_module": "@jupyter-widgets/controls",
          "model_name": "HTMLModel",
          "model_module_version": "1.5.0",
          "state": {
            "_dom_classes": [],
            "_model_module": "@jupyter-widgets/controls",
            "_model_module_version": "1.5.0",
            "_model_name": "HTMLModel",
            "_view_count": null,
            "_view_module": "@jupyter-widgets/controls",
            "_view_module_version": "1.5.0",
            "_view_name": "HTMLView",
            "description": "",
            "description_tooltip": null,
            "layout": "IPY_MODEL_2e78e7cec0404e5b816685687fa78de8",
            "placeholder": "​",
            "style": "IPY_MODEL_242510d353234a508279f3863df92b32",
            "value": "Downloading: 100%"
          }
        },
        "68a06312662b42d6a76546acc3fe2e9d": {
          "model_module": "@jupyter-widgets/controls",
          "model_name": "FloatProgressModel",
          "model_module_version": "1.5.0",
          "state": {
            "_dom_classes": [],
            "_model_module": "@jupyter-widgets/controls",
            "_model_module_version": "1.5.0",
            "_model_name": "FloatProgressModel",
            "_view_count": null,
            "_view_module": "@jupyter-widgets/controls",
            "_view_module_version": "1.5.0",
            "_view_name": "ProgressView",
            "bar_style": "success",
            "description": "",
            "description_tooltip": null,
            "layout": "IPY_MODEL_1874a0a7fe9e4774ae4d5ddb416de09c",
            "max": 456318,
            "min": 0,
            "orientation": "horizontal",
            "style": "IPY_MODEL_fa2d79822b6344adb058d491b89cfe07",
            "value": 456318
          }
        },
        "873059e48f624c299201507037dca9a2": {
          "model_module": "@jupyter-widgets/controls",
          "model_name": "HTMLModel",
          "model_module_version": "1.5.0",
          "state": {
            "_dom_classes": [],
            "_model_module": "@jupyter-widgets/controls",
            "_model_module_version": "1.5.0",
            "_model_name": "HTMLModel",
            "_view_count": null,
            "_view_module": "@jupyter-widgets/controls",
            "_view_module_version": "1.5.0",
            "_view_name": "HTMLView",
            "description": "",
            "description_tooltip": null,
            "layout": "IPY_MODEL_d14d6b071bd94e99bcc45730908b4a8b",
            "placeholder": "​",
            "style": "IPY_MODEL_551cb3da6ef442d1a2861611c0c776c4",
            "value": " 446k/446k [00:00&lt;00:00, 1.18MB/s]"
          }
        },
        "893ae63c1c5d4134b860bce47efebb5b": {
          "model_module": "@jupyter-widgets/base",
          "model_name": "LayoutModel",
          "model_module_version": "1.2.0",
          "state": {
            "_model_module": "@jupyter-widgets/base",
            "_model_module_version": "1.2.0",
            "_model_name": "LayoutModel",
            "_view_count": null,
            "_view_module": "@jupyter-widgets/base",
            "_view_module_version": "1.2.0",
            "_view_name": "LayoutView",
            "align_content": null,
            "align_items": null,
            "align_self": null,
            "border": null,
            "bottom": null,
            "display": null,
            "flex": null,
            "flex_flow": null,
            "grid_area": null,
            "grid_auto_columns": null,
            "grid_auto_flow": null,
            "grid_auto_rows": null,
            "grid_column": null,
            "grid_gap": null,
            "grid_row": null,
            "grid_template_areas": null,
            "grid_template_columns": null,
            "grid_template_rows": null,
            "height": null,
            "justify_content": null,
            "justify_items": null,
            "left": null,
            "margin": null,
            "max_height": null,
            "max_width": null,
            "min_height": null,
            "min_width": null,
            "object_fit": null,
            "object_position": null,
            "order": null,
            "overflow": null,
            "overflow_x": null,
            "overflow_y": null,
            "padding": null,
            "right": null,
            "top": null,
            "visibility": null,
            "width": null
          }
        },
        "2e78e7cec0404e5b816685687fa78de8": {
          "model_module": "@jupyter-widgets/base",
          "model_name": "LayoutModel",
          "model_module_version": "1.2.0",
          "state": {
            "_model_module": "@jupyter-widgets/base",
            "_model_module_version": "1.2.0",
            "_model_name": "LayoutModel",
            "_view_count": null,
            "_view_module": "@jupyter-widgets/base",
            "_view_module_version": "1.2.0",
            "_view_name": "LayoutView",
            "align_content": null,
            "align_items": null,
            "align_self": null,
            "border": null,
            "bottom": null,
            "display": null,
            "flex": null,
            "flex_flow": null,
            "grid_area": null,
            "grid_auto_columns": null,
            "grid_auto_flow": null,
            "grid_auto_rows": null,
            "grid_column": null,
            "grid_gap": null,
            "grid_row": null,
            "grid_template_areas": null,
            "grid_template_columns": null,
            "grid_template_rows": null,
            "height": null,
            "justify_content": null,
            "justify_items": null,
            "left": null,
            "margin": null,
            "max_height": null,
            "max_width": null,
            "min_height": null,
            "min_width": null,
            "object_fit": null,
            "object_position": null,
            "order": null,
            "overflow": null,
            "overflow_x": null,
            "overflow_y": null,
            "padding": null,
            "right": null,
            "top": null,
            "visibility": null,
            "width": null
          }
        },
        "242510d353234a508279f3863df92b32": {
          "model_module": "@jupyter-widgets/controls",
          "model_name": "DescriptionStyleModel",
          "model_module_version": "1.5.0",
          "state": {
            "_model_module": "@jupyter-widgets/controls",
            "_model_module_version": "1.5.0",
            "_model_name": "DescriptionStyleModel",
            "_view_count": null,
            "_view_module": "@jupyter-widgets/base",
            "_view_module_version": "1.2.0",
            "_view_name": "StyleView",
            "description_width": ""
          }
        },
        "1874a0a7fe9e4774ae4d5ddb416de09c": {
          "model_module": "@jupyter-widgets/base",
          "model_name": "LayoutModel",
          "model_module_version": "1.2.0",
          "state": {
            "_model_module": "@jupyter-widgets/base",
            "_model_module_version": "1.2.0",
            "_model_name": "LayoutModel",
            "_view_count": null,
            "_view_module": "@jupyter-widgets/base",
            "_view_module_version": "1.2.0",
            "_view_name": "LayoutView",
            "align_content": null,
            "align_items": null,
            "align_self": null,
            "border": null,
            "bottom": null,
            "display": null,
            "flex": null,
            "flex_flow": null,
            "grid_area": null,
            "grid_auto_columns": null,
            "grid_auto_flow": null,
            "grid_auto_rows": null,
            "grid_column": null,
            "grid_gap": null,
            "grid_row": null,
            "grid_template_areas": null,
            "grid_template_columns": null,
            "grid_template_rows": null,
            "height": null,
            "justify_content": null,
            "justify_items": null,
            "left": null,
            "margin": null,
            "max_height": null,
            "max_width": null,
            "min_height": null,
            "min_width": null,
            "object_fit": null,
            "object_position": null,
            "order": null,
            "overflow": null,
            "overflow_x": null,
            "overflow_y": null,
            "padding": null,
            "right": null,
            "top": null,
            "visibility": null,
            "width": null
          }
        },
        "fa2d79822b6344adb058d491b89cfe07": {
          "model_module": "@jupyter-widgets/controls",
          "model_name": "ProgressStyleModel",
          "model_module_version": "1.5.0",
          "state": {
            "_model_module": "@jupyter-widgets/controls",
            "_model_module_version": "1.5.0",
            "_model_name": "ProgressStyleModel",
            "_view_count": null,
            "_view_module": "@jupyter-widgets/base",
            "_view_module_version": "1.2.0",
            "_view_name": "StyleView",
            "bar_color": null,
            "description_width": ""
          }
        },
        "d14d6b071bd94e99bcc45730908b4a8b": {
          "model_module": "@jupyter-widgets/base",
          "model_name": "LayoutModel",
          "model_module_version": "1.2.0",
          "state": {
            "_model_module": "@jupyter-widgets/base",
            "_model_module_version": "1.2.0",
            "_model_name": "LayoutModel",
            "_view_count": null,
            "_view_module": "@jupyter-widgets/base",
            "_view_module_version": "1.2.0",
            "_view_name": "LayoutView",
            "align_content": null,
            "align_items": null,
            "align_self": null,
            "border": null,
            "bottom": null,
            "display": null,
            "flex": null,
            "flex_flow": null,
            "grid_area": null,
            "grid_auto_columns": null,
            "grid_auto_flow": null,
            "grid_auto_rows": null,
            "grid_column": null,
            "grid_gap": null,
            "grid_row": null,
            "grid_template_areas": null,
            "grid_template_columns": null,
            "grid_template_rows": null,
            "height": null,
            "justify_content": null,
            "justify_items": null,
            "left": null,
            "margin": null,
            "max_height": null,
            "max_width": null,
            "min_height": null,
            "min_width": null,
            "object_fit": null,
            "object_position": null,
            "order": null,
            "overflow": null,
            "overflow_x": null,
            "overflow_y": null,
            "padding": null,
            "right": null,
            "top": null,
            "visibility": null,
            "width": null
          }
        },
        "551cb3da6ef442d1a2861611c0c776c4": {
          "model_module": "@jupyter-widgets/controls",
          "model_name": "DescriptionStyleModel",
          "model_module_version": "1.5.0",
          "state": {
            "_model_module": "@jupyter-widgets/controls",
            "_model_module_version": "1.5.0",
            "_model_name": "DescriptionStyleModel",
            "_view_count": null,
            "_view_module": "@jupyter-widgets/base",
            "_view_module_version": "1.2.0",
            "_view_name": "StyleView",
            "description_width": ""
          }
        },
        "5d3c2d871c8646908b8f0b90aee65f69": {
          "model_module": "@jupyter-widgets/controls",
          "model_name": "HBoxModel",
          "model_module_version": "1.5.0",
          "state": {
            "_dom_classes": [],
            "_model_module": "@jupyter-widgets/controls",
            "_model_module_version": "1.5.0",
            "_model_name": "HBoxModel",
            "_view_count": null,
            "_view_module": "@jupyter-widgets/controls",
            "_view_module_version": "1.5.0",
            "_view_name": "HBoxView",
            "box_style": "",
            "children": [
              "IPY_MODEL_1488b2cc859d455a824ca6b46af9bdf9",
              "IPY_MODEL_9d2d7b2b81c74df287ff20babe4a1572",
              "IPY_MODEL_a3b184c20f474237a5ee7667d80f1d71"
            ],
            "layout": "IPY_MODEL_2c05bff00597451b9ea7eccdc30afa0a"
          }
        },
        "1488b2cc859d455a824ca6b46af9bdf9": {
          "model_module": "@jupyter-widgets/controls",
          "model_name": "HTMLModel",
          "model_module_version": "1.5.0",
          "state": {
            "_dom_classes": [],
            "_model_module": "@jupyter-widgets/controls",
            "_model_module_version": "1.5.0",
            "_model_name": "HTMLModel",
            "_view_count": null,
            "_view_module": "@jupyter-widgets/controls",
            "_view_module_version": "1.5.0",
            "_view_name": "HTMLView",
            "description": "",
            "description_tooltip": null,
            "layout": "IPY_MODEL_bc8f7dd912aa43c5ab41cc666aa012a3",
            "placeholder": "​",
            "style": "IPY_MODEL_be6681c7d0074485ae8b2e817beecce6",
            "value": "Downloading: 100%"
          }
        },
        "9d2d7b2b81c74df287ff20babe4a1572": {
          "model_module": "@jupyter-widgets/controls",
          "model_name": "FloatProgressModel",
          "model_module_version": "1.5.0",
          "state": {
            "_dom_classes": [],
            "_model_module": "@jupyter-widgets/controls",
            "_model_module_version": "1.5.0",
            "_model_name": "FloatProgressModel",
            "_view_count": null,
            "_view_module": "@jupyter-widgets/controls",
            "_view_module_version": "1.5.0",
            "_view_name": "ProgressView",
            "bar_style": "success",
            "description": "",
            "description_tooltip": null,
            "layout": "IPY_MODEL_1dda055eba2a4508a7adf8f83d1c34e4",
            "max": 666,
            "min": 0,
            "orientation": "horizontal",
            "style": "IPY_MODEL_a2b9288df1d943e08749cbb1837bc575",
            "value": 666
          }
        },
        "a3b184c20f474237a5ee7667d80f1d71": {
          "model_module": "@jupyter-widgets/controls",
          "model_name": "HTMLModel",
          "model_module_version": "1.5.0",
          "state": {
            "_dom_classes": [],
            "_model_module": "@jupyter-widgets/controls",
            "_model_module_version": "1.5.0",
            "_model_name": "HTMLModel",
            "_view_count": null,
            "_view_module": "@jupyter-widgets/controls",
            "_view_module_version": "1.5.0",
            "_view_name": "HTMLView",
            "description": "",
            "description_tooltip": null,
            "layout": "IPY_MODEL_5ee92981eefb4ece92097200f49b0802",
            "placeholder": "​",
            "style": "IPY_MODEL_831ff16a90014f3683dce175ba9ddbdf",
            "value": " 666/666 [00:00&lt;00:00, 10.5kB/s]"
          }
        },
        "2c05bff00597451b9ea7eccdc30afa0a": {
          "model_module": "@jupyter-widgets/base",
          "model_name": "LayoutModel",
          "model_module_version": "1.2.0",
          "state": {
            "_model_module": "@jupyter-widgets/base",
            "_model_module_version": "1.2.0",
            "_model_name": "LayoutModel",
            "_view_count": null,
            "_view_module": "@jupyter-widgets/base",
            "_view_module_version": "1.2.0",
            "_view_name": "LayoutView",
            "align_content": null,
            "align_items": null,
            "align_self": null,
            "border": null,
            "bottom": null,
            "display": null,
            "flex": null,
            "flex_flow": null,
            "grid_area": null,
            "grid_auto_columns": null,
            "grid_auto_flow": null,
            "grid_auto_rows": null,
            "grid_column": null,
            "grid_gap": null,
            "grid_row": null,
            "grid_template_areas": null,
            "grid_template_columns": null,
            "grid_template_rows": null,
            "height": null,
            "justify_content": null,
            "justify_items": null,
            "left": null,
            "margin": null,
            "max_height": null,
            "max_width": null,
            "min_height": null,
            "min_width": null,
            "object_fit": null,
            "object_position": null,
            "order": null,
            "overflow": null,
            "overflow_x": null,
            "overflow_y": null,
            "padding": null,
            "right": null,
            "top": null,
            "visibility": null,
            "width": null
          }
        },
        "bc8f7dd912aa43c5ab41cc666aa012a3": {
          "model_module": "@jupyter-widgets/base",
          "model_name": "LayoutModel",
          "model_module_version": "1.2.0",
          "state": {
            "_model_module": "@jupyter-widgets/base",
            "_model_module_version": "1.2.0",
            "_model_name": "LayoutModel",
            "_view_count": null,
            "_view_module": "@jupyter-widgets/base",
            "_view_module_version": "1.2.0",
            "_view_name": "LayoutView",
            "align_content": null,
            "align_items": null,
            "align_self": null,
            "border": null,
            "bottom": null,
            "display": null,
            "flex": null,
            "flex_flow": null,
            "grid_area": null,
            "grid_auto_columns": null,
            "grid_auto_flow": null,
            "grid_auto_rows": null,
            "grid_column": null,
            "grid_gap": null,
            "grid_row": null,
            "grid_template_areas": null,
            "grid_template_columns": null,
            "grid_template_rows": null,
            "height": null,
            "justify_content": null,
            "justify_items": null,
            "left": null,
            "margin": null,
            "max_height": null,
            "max_width": null,
            "min_height": null,
            "min_width": null,
            "object_fit": null,
            "object_position": null,
            "order": null,
            "overflow": null,
            "overflow_x": null,
            "overflow_y": null,
            "padding": null,
            "right": null,
            "top": null,
            "visibility": null,
            "width": null
          }
        },
        "be6681c7d0074485ae8b2e817beecce6": {
          "model_module": "@jupyter-widgets/controls",
          "model_name": "DescriptionStyleModel",
          "model_module_version": "1.5.0",
          "state": {
            "_model_module": "@jupyter-widgets/controls",
            "_model_module_version": "1.5.0",
            "_model_name": "DescriptionStyleModel",
            "_view_count": null,
            "_view_module": "@jupyter-widgets/base",
            "_view_module_version": "1.2.0",
            "_view_name": "StyleView",
            "description_width": ""
          }
        },
        "1dda055eba2a4508a7adf8f83d1c34e4": {
          "model_module": "@jupyter-widgets/base",
          "model_name": "LayoutModel",
          "model_module_version": "1.2.0",
          "state": {
            "_model_module": "@jupyter-widgets/base",
            "_model_module_version": "1.2.0",
            "_model_name": "LayoutModel",
            "_view_count": null,
            "_view_module": "@jupyter-widgets/base",
            "_view_module_version": "1.2.0",
            "_view_name": "LayoutView",
            "align_content": null,
            "align_items": null,
            "align_self": null,
            "border": null,
            "bottom": null,
            "display": null,
            "flex": null,
            "flex_flow": null,
            "grid_area": null,
            "grid_auto_columns": null,
            "grid_auto_flow": null,
            "grid_auto_rows": null,
            "grid_column": null,
            "grid_gap": null,
            "grid_row": null,
            "grid_template_areas": null,
            "grid_template_columns": null,
            "grid_template_rows": null,
            "height": null,
            "justify_content": null,
            "justify_items": null,
            "left": null,
            "margin": null,
            "max_height": null,
            "max_width": null,
            "min_height": null,
            "min_width": null,
            "object_fit": null,
            "object_position": null,
            "order": null,
            "overflow": null,
            "overflow_x": null,
            "overflow_y": null,
            "padding": null,
            "right": null,
            "top": null,
            "visibility": null,
            "width": null
          }
        },
        "a2b9288df1d943e08749cbb1837bc575": {
          "model_module": "@jupyter-widgets/controls",
          "model_name": "ProgressStyleModel",
          "model_module_version": "1.5.0",
          "state": {
            "_model_module": "@jupyter-widgets/controls",
            "_model_module_version": "1.5.0",
            "_model_name": "ProgressStyleModel",
            "_view_count": null,
            "_view_module": "@jupyter-widgets/base",
            "_view_module_version": "1.2.0",
            "_view_name": "StyleView",
            "bar_color": null,
            "description_width": ""
          }
        },
        "5ee92981eefb4ece92097200f49b0802": {
          "model_module": "@jupyter-widgets/base",
          "model_name": "LayoutModel",
          "model_module_version": "1.2.0",
          "state": {
            "_model_module": "@jupyter-widgets/base",
            "_model_module_version": "1.2.0",
            "_model_name": "LayoutModel",
            "_view_count": null,
            "_view_module": "@jupyter-widgets/base",
            "_view_module_version": "1.2.0",
            "_view_name": "LayoutView",
            "align_content": null,
            "align_items": null,
            "align_self": null,
            "border": null,
            "bottom": null,
            "display": null,
            "flex": null,
            "flex_flow": null,
            "grid_area": null,
            "grid_auto_columns": null,
            "grid_auto_flow": null,
            "grid_auto_rows": null,
            "grid_column": null,
            "grid_gap": null,
            "grid_row": null,
            "grid_template_areas": null,
            "grid_template_columns": null,
            "grid_template_rows": null,
            "height": null,
            "justify_content": null,
            "justify_items": null,
            "left": null,
            "margin": null,
            "max_height": null,
            "max_width": null,
            "min_height": null,
            "min_width": null,
            "object_fit": null,
            "object_position": null,
            "order": null,
            "overflow": null,
            "overflow_x": null,
            "overflow_y": null,
            "padding": null,
            "right": null,
            "top": null,
            "visibility": null,
            "width": null
          }
        },
        "831ff16a90014f3683dce175ba9ddbdf": {
          "model_module": "@jupyter-widgets/controls",
          "model_name": "DescriptionStyleModel",
          "model_module_version": "1.5.0",
          "state": {
            "_model_module": "@jupyter-widgets/controls",
            "_model_module_version": "1.5.0",
            "_model_name": "DescriptionStyleModel",
            "_view_count": null,
            "_view_module": "@jupyter-widgets/base",
            "_view_module_version": "1.2.0",
            "_view_name": "StyleView",
            "description_width": ""
          }
        },
        "29a6f7ff21654e48b44a751a5b09b10c": {
          "model_module": "@jupyter-widgets/controls",
          "model_name": "HBoxModel",
          "model_module_version": "1.5.0",
          "state": {
            "_dom_classes": [],
            "_model_module": "@jupyter-widgets/controls",
            "_model_module_version": "1.5.0",
            "_model_name": "HBoxModel",
            "_view_count": null,
            "_view_module": "@jupyter-widgets/controls",
            "_view_module_version": "1.5.0",
            "_view_name": "HBoxView",
            "box_style": "",
            "children": [
              "IPY_MODEL_aca0cec8bb7d49f8bb8de1fcb62d5ffa",
              "IPY_MODEL_60485f41f60f418c8bac63e648bba36e",
              "IPY_MODEL_402eed5ff9704e88b9c1411a1e182049"
            ],
            "layout": "IPY_MODEL_173f23e30067455e9563767e1dad685c"
          }
        },
        "aca0cec8bb7d49f8bb8de1fcb62d5ffa": {
          "model_module": "@jupyter-widgets/controls",
          "model_name": "HTMLModel",
          "model_module_version": "1.5.0",
          "state": {
            "_dom_classes": [],
            "_model_module": "@jupyter-widgets/controls",
            "_model_module_version": "1.5.0",
            "_model_name": "HTMLModel",
            "_view_count": null,
            "_view_module": "@jupyter-widgets/controls",
            "_view_module_version": "1.5.0",
            "_view_name": "HTMLView",
            "description": "",
            "description_tooltip": null,
            "layout": "IPY_MODEL_7c4693ed7e944bf5901312c1125c3bb9",
            "placeholder": "​",
            "style": "IPY_MODEL_c90b6e7923054d6e98fcb181dc5f4a06",
            "value": "Downloading: 100%"
          }
        },
        "60485f41f60f418c8bac63e648bba36e": {
          "model_module": "@jupyter-widgets/controls",
          "model_name": "FloatProgressModel",
          "model_module_version": "1.5.0",
          "state": {
            "_dom_classes": [],
            "_model_module": "@jupyter-widgets/controls",
            "_model_module_version": "1.5.0",
            "_model_name": "FloatProgressModel",
            "_view_count": null,
            "_view_module": "@jupyter-widgets/controls",
            "_view_module_version": "1.5.0",
            "_view_name": "ProgressView",
            "bar_style": "success",
            "description": "",
            "description_tooltip": null,
            "layout": "IPY_MODEL_0992d21927a84e16a1d904d320dbc869",
            "max": 3096618024,
            "min": 0,
            "orientation": "horizontal",
            "style": "IPY_MODEL_4c485f17113e48c9ba247cc433188f9e",
            "value": 3096618024
          }
        },
        "402eed5ff9704e88b9c1411a1e182049": {
          "model_module": "@jupyter-widgets/controls",
          "model_name": "HTMLModel",
          "model_module_version": "1.5.0",
          "state": {
            "_dom_classes": [],
            "_model_module": "@jupyter-widgets/controls",
            "_model_module_version": "1.5.0",
            "_model_name": "HTMLModel",
            "_view_count": null,
            "_view_module": "@jupyter-widgets/controls",
            "_view_module_version": "1.5.0",
            "_view_name": "HTMLView",
            "description": "",
            "description_tooltip": null,
            "layout": "IPY_MODEL_b282712aee9c49c39107137b50a14cc1",
            "placeholder": "​",
            "style": "IPY_MODEL_7f65a6fb8ecc4ec2b3b8e7747ffdb6b3",
            "value": " 2.88G/2.88G [01:41&lt;00:00, 31.7MB/s]"
          }
        },
        "173f23e30067455e9563767e1dad685c": {
          "model_module": "@jupyter-widgets/base",
          "model_name": "LayoutModel",
          "model_module_version": "1.2.0",
          "state": {
            "_model_module": "@jupyter-widgets/base",
            "_model_module_version": "1.2.0",
            "_model_name": "LayoutModel",
            "_view_count": null,
            "_view_module": "@jupyter-widgets/base",
            "_view_module_version": "1.2.0",
            "_view_name": "LayoutView",
            "align_content": null,
            "align_items": null,
            "align_self": null,
            "border": null,
            "bottom": null,
            "display": null,
            "flex": null,
            "flex_flow": null,
            "grid_area": null,
            "grid_auto_columns": null,
            "grid_auto_flow": null,
            "grid_auto_rows": null,
            "grid_column": null,
            "grid_gap": null,
            "grid_row": null,
            "grid_template_areas": null,
            "grid_template_columns": null,
            "grid_template_rows": null,
            "height": null,
            "justify_content": null,
            "justify_items": null,
            "left": null,
            "margin": null,
            "max_height": null,
            "max_width": null,
            "min_height": null,
            "min_width": null,
            "object_fit": null,
            "object_position": null,
            "order": null,
            "overflow": null,
            "overflow_x": null,
            "overflow_y": null,
            "padding": null,
            "right": null,
            "top": null,
            "visibility": null,
            "width": null
          }
        },
        "7c4693ed7e944bf5901312c1125c3bb9": {
          "model_module": "@jupyter-widgets/base",
          "model_name": "LayoutModel",
          "model_module_version": "1.2.0",
          "state": {
            "_model_module": "@jupyter-widgets/base",
            "_model_module_version": "1.2.0",
            "_model_name": "LayoutModel",
            "_view_count": null,
            "_view_module": "@jupyter-widgets/base",
            "_view_module_version": "1.2.0",
            "_view_name": "LayoutView",
            "align_content": null,
            "align_items": null,
            "align_self": null,
            "border": null,
            "bottom": null,
            "display": null,
            "flex": null,
            "flex_flow": null,
            "grid_area": null,
            "grid_auto_columns": null,
            "grid_auto_flow": null,
            "grid_auto_rows": null,
            "grid_column": null,
            "grid_gap": null,
            "grid_row": null,
            "grid_template_areas": null,
            "grid_template_columns": null,
            "grid_template_rows": null,
            "height": null,
            "justify_content": null,
            "justify_items": null,
            "left": null,
            "margin": null,
            "max_height": null,
            "max_width": null,
            "min_height": null,
            "min_width": null,
            "object_fit": null,
            "object_position": null,
            "order": null,
            "overflow": null,
            "overflow_x": null,
            "overflow_y": null,
            "padding": null,
            "right": null,
            "top": null,
            "visibility": null,
            "width": null
          }
        },
        "c90b6e7923054d6e98fcb181dc5f4a06": {
          "model_module": "@jupyter-widgets/controls",
          "model_name": "DescriptionStyleModel",
          "model_module_version": "1.5.0",
          "state": {
            "_model_module": "@jupyter-widgets/controls",
            "_model_module_version": "1.5.0",
            "_model_name": "DescriptionStyleModel",
            "_view_count": null,
            "_view_module": "@jupyter-widgets/base",
            "_view_module_version": "1.2.0",
            "_view_name": "StyleView",
            "description_width": ""
          }
        },
        "0992d21927a84e16a1d904d320dbc869": {
          "model_module": "@jupyter-widgets/base",
          "model_name": "LayoutModel",
          "model_module_version": "1.2.0",
          "state": {
            "_model_module": "@jupyter-widgets/base",
            "_model_module_version": "1.2.0",
            "_model_name": "LayoutModel",
            "_view_count": null,
            "_view_module": "@jupyter-widgets/base",
            "_view_module_version": "1.2.0",
            "_view_name": "LayoutView",
            "align_content": null,
            "align_items": null,
            "align_self": null,
            "border": null,
            "bottom": null,
            "display": null,
            "flex": null,
            "flex_flow": null,
            "grid_area": null,
            "grid_auto_columns": null,
            "grid_auto_flow": null,
            "grid_auto_rows": null,
            "grid_column": null,
            "grid_gap": null,
            "grid_row": null,
            "grid_template_areas": null,
            "grid_template_columns": null,
            "grid_template_rows": null,
            "height": null,
            "justify_content": null,
            "justify_items": null,
            "left": null,
            "margin": null,
            "max_height": null,
            "max_width": null,
            "min_height": null,
            "min_width": null,
            "object_fit": null,
            "object_position": null,
            "order": null,
            "overflow": null,
            "overflow_x": null,
            "overflow_y": null,
            "padding": null,
            "right": null,
            "top": null,
            "visibility": null,
            "width": null
          }
        },
        "4c485f17113e48c9ba247cc433188f9e": {
          "model_module": "@jupyter-widgets/controls",
          "model_name": "ProgressStyleModel",
          "model_module_version": "1.5.0",
          "state": {
            "_model_module": "@jupyter-widgets/controls",
            "_model_module_version": "1.5.0",
            "_model_name": "ProgressStyleModel",
            "_view_count": null,
            "_view_module": "@jupyter-widgets/base",
            "_view_module_version": "1.2.0",
            "_view_name": "StyleView",
            "bar_color": null,
            "description_width": ""
          }
        },
        "b282712aee9c49c39107137b50a14cc1": {
          "model_module": "@jupyter-widgets/base",
          "model_name": "LayoutModel",
          "model_module_version": "1.2.0",
          "state": {
            "_model_module": "@jupyter-widgets/base",
            "_model_module_version": "1.2.0",
            "_model_name": "LayoutModel",
            "_view_count": null,
            "_view_module": "@jupyter-widgets/base",
            "_view_module_version": "1.2.0",
            "_view_name": "LayoutView",
            "align_content": null,
            "align_items": null,
            "align_self": null,
            "border": null,
            "bottom": null,
            "display": null,
            "flex": null,
            "flex_flow": null,
            "grid_area": null,
            "grid_auto_columns": null,
            "grid_auto_flow": null,
            "grid_auto_rows": null,
            "grid_column": null,
            "grid_gap": null,
            "grid_row": null,
            "grid_template_areas": null,
            "grid_template_columns": null,
            "grid_template_rows": null,
            "height": null,
            "justify_content": null,
            "justify_items": null,
            "left": null,
            "margin": null,
            "max_height": null,
            "max_width": null,
            "min_height": null,
            "min_width": null,
            "object_fit": null,
            "object_position": null,
            "order": null,
            "overflow": null,
            "overflow_x": null,
            "overflow_y": null,
            "padding": null,
            "right": null,
            "top": null,
            "visibility": null,
            "width": null
          }
        },
        "7f65a6fb8ecc4ec2b3b8e7747ffdb6b3": {
          "model_module": "@jupyter-widgets/controls",
          "model_name": "DescriptionStyleModel",
          "model_module_version": "1.5.0",
          "state": {
            "_model_module": "@jupyter-widgets/controls",
            "_model_module_version": "1.5.0",
            "_model_name": "DescriptionStyleModel",
            "_view_count": null,
            "_view_module": "@jupyter-widgets/base",
            "_view_module_version": "1.2.0",
            "_view_name": "StyleView",
            "description_width": ""
          }
        }
      }
    }
  },
  "nbformat": 4,
  "nbformat_minor": 0
}
